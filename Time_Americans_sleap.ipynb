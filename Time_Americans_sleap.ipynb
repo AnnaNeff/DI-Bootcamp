{
  "nbformat": 4,
  "nbformat_minor": 0,
  "metadata": {
    "colab": {
      "provenance": [],
      "gpuType": "T4",
      "authorship_tag": "ABX9TyOyBVNIlzJ0w4KZP2fBsuKe",
      "include_colab_link": true
    },
    "kernelspec": {
      "name": "python3",
      "display_name": "Python 3"
    },
    "language_info": {
      "name": "python"
    }
  },
  "cells": [
    {
      "cell_type": "markdown",
      "metadata": {
        "id": "view-in-github",
        "colab_type": "text"
      },
      "source": [
        "<a href=\"https://colab.research.google.com/github/AnnaNeff/DI-Bootcamp/blob/main/Time_Americans_sleap.ipynb\" target=\"_parent\"><img src=\"https://colab.research.google.com/assets/colab-badge.svg\" alt=\"Open In Colab\"/></a>"
      ]
    },
    {
      "cell_type": "code",
      "source": [
        "import pandas as pd\n",
        "\n",
        "tass = pd.read_csv('/content/sample_data/Time Americans Spend Sleeping.csv')\n",
        "print(tass.head())"
      ],
      "metadata": {
        "colab": {
          "base_uri": "https://localhost:8080/"
        },
        "id": "z2Hb2wjkCzAW",
        "outputId": "2bc1f0bc-f13c-47b3-d877-a28c9fd3aab4"
      },
      "execution_count": 11,
      "outputs": [
        {
          "output_type": "stream",
          "name": "stdout",
          "text": [
            "   index  Year  Period  Avg hrs per day sleeping  Standard Error Type of Days  \\\n",
            "0      0  2003  Annual                      8.57           0.018     All days   \n",
            "1      1  2004  Annual                      8.55           0.026     All days   \n",
            "2      2  2005  Annual                      8.62           0.023     All days   \n",
            "3      3  2006  Annual                      8.63           0.024     All days   \n",
            "4      4  2007  Annual                      8.57           0.024     All days   \n",
            "\n",
            "           Age Group  Activity   Sex  \n",
            "0  15 years and over  Sleeping  Both  \n",
            "1  15 years and over  Sleeping  Both  \n",
            "2  15 years and over  Sleeping  Both  \n",
            "3  15 years and over  Sleeping  Both  \n",
            "4  15 years and over  Sleeping  Both  \n"
          ]
        }
      ]
    },
    {
      "cell_type": "code",
      "source": [
        "print(tass.describe())"
      ],
      "metadata": {
        "colab": {
          "base_uri": "https://localhost:8080/"
        },
        "id": "HjxkbE85IkhD",
        "outputId": "995cf895-492a-46e4-da1a-18faa7f80c6a"
      },
      "execution_count": 12,
      "outputs": [
        {
          "output_type": "stream",
          "name": "stdout",
          "text": [
            "            index         Year  Avg hrs per day sleeping  Standard Error\n",
            "count  945.000000   945.000000                945.000000      945.000000\n",
            "mean   472.000000  2010.000000                  8.806868        0.086958\n",
            "std    272.942302     4.322782                  0.545001        0.034631\n",
            "min      0.000000  2003.000000                  7.720000        0.018000\n",
            "25%    236.000000  2006.000000                  8.360000        0.063000\n",
            "50%    472.000000  2010.000000                  8.810000        0.084000\n",
            "75%    708.000000  2014.000000                  9.190000        0.106000\n",
            "max    944.000000  2017.000000                 10.650000        0.228000\n"
          ]
        }
      ]
    },
    {
      "cell_type": "code",
      "source": [
        "from google.colab import drive\n",
        "drive.mount('/content/drive')"
      ],
      "metadata": {
        "id": "NESGP_9nJ86R"
      },
      "execution_count": null,
      "outputs": []
    },
    {
      "cell_type": "code",
      "source": [],
      "metadata": {
        "id": "vkWoRKA7IrEN"
      },
      "execution_count": null,
      "outputs": []
    }
  ]
}