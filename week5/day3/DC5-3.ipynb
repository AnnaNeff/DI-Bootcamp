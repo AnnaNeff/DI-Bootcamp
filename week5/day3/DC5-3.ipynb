{
 "cells": [
  {
   "cell_type": "code",
   "execution_count": 3,
   "id": "4d7dd1a0",
   "metadata": {},
   "outputs": [],
   "source": [
    "# Fast, simple setup\n",
    "import pandas as pd\n",
    "import numpy as np\n",
    "import matplotlib.pyplot as plt\n",
    "import seaborn as sns\n",
    "import warnings; warnings.filterwarnings(\"ignore\")\n",
    "\n",
    "from sklearn.model_selection import train_test_split\n",
    "from sklearn.preprocessing import StandardScaler\n",
    "from sklearn.metrics import accuracy_score\n",
    "from sklearn.linear_model import LogisticRegression\n",
    "from sklearn.neighbors import KNeighborsClassifier\n",
    "from sklearn.ensemble import RandomForestClassifier\n",
    "from sklearn.svm import SVC\n",
    "\n",
    "RANDOM_STATE = 42\n",
    "pd.set_option(\"display.max_columns\", 100)\n"
   ]
  },
  {
   "cell_type": "code",
   "execution_count": 4,
   "id": "7c01d924",
   "metadata": {},
   "outputs": [
    {
     "name": "stdout",
     "output_type": "stream",
     "text": [
      "Shape: (569, 33)\n",
      "First 5 rows:\n",
      "         id diagnosis  radius_mean  texture_mean  perimeter_mean  area_mean  \\\n",
      "0    842302         M        17.99         10.38          122.80     1001.0   \n",
      "1    842517         M        20.57         17.77          132.90     1326.0   \n",
      "2  84300903         M        19.69         21.25          130.00     1203.0   \n",
      "3  84348301         M        11.42         20.38           77.58      386.1   \n",
      "4  84358402         M        20.29         14.34          135.10     1297.0   \n",
      "\n",
      "   smoothness_mean  compactness_mean  concavity_mean  concave points_mean  \\\n",
      "0          0.11840           0.27760          0.3001              0.14710   \n",
      "1          0.08474           0.07864          0.0869              0.07017   \n",
      "2          0.10960           0.15990          0.1974              0.12790   \n",
      "3          0.14250           0.28390          0.2414              0.10520   \n",
      "4          0.10030           0.13280          0.1980              0.10430   \n",
      "\n",
      "   symmetry_mean  fractal_dimension_mean  radius_se  texture_se  perimeter_se  \\\n",
      "0         0.2419                 0.07871     1.0950      0.9053         8.589   \n",
      "1         0.1812                 0.05667     0.5435      0.7339         3.398   \n",
      "2         0.2069                 0.05999     0.7456      0.7869         4.585   \n",
      "3         0.2597                 0.09744     0.4956      1.1560         3.445   \n",
      "4         0.1809                 0.05883     0.7572      0.7813         5.438   \n",
      "\n",
      "   area_se  smoothness_se  compactness_se  concavity_se  concave points_se  \\\n",
      "0   153.40       0.006399         0.04904       0.05373            0.01587   \n",
      "1    74.08       0.005225         0.01308       0.01860            0.01340   \n",
      "2    94.03       0.006150         0.04006       0.03832            0.02058   \n",
      "3    27.23       0.009110         0.07458       0.05661            0.01867   \n",
      "4    94.44       0.011490         0.02461       0.05688            0.01885   \n",
      "\n",
      "   symmetry_se  fractal_dimension_se  radius_worst  texture_worst  \\\n",
      "0      0.03003              0.006193         25.38          17.33   \n",
      "1      0.01389              0.003532         24.99          23.41   \n",
      "2      0.02250              0.004571         23.57          25.53   \n",
      "3      0.05963              0.009208         14.91          26.50   \n",
      "4      0.01756              0.005115         22.54          16.67   \n",
      "\n",
      "   perimeter_worst  area_worst  smoothness_worst  compactness_worst  \\\n",
      "0           184.60      2019.0            0.1622             0.6656   \n",
      "1           158.80      1956.0            0.1238             0.1866   \n",
      "2           152.50      1709.0            0.1444             0.4245   \n",
      "3            98.87       567.7            0.2098             0.8663   \n",
      "4           152.20      1575.0            0.1374             0.2050   \n",
      "\n",
      "   concavity_worst  concave points_worst  symmetry_worst  \\\n",
      "0           0.7119                0.2654          0.4601   \n",
      "1           0.2416                0.1860          0.2750   \n",
      "2           0.4504                0.2430          0.3613   \n",
      "3           0.6869                0.2575          0.6638   \n",
      "4           0.4000                0.1625          0.2364   \n",
      "\n",
      "   fractal_dimension_worst  Unnamed: 32  \n",
      "0                  0.11890          NaN  \n",
      "1                  0.08902          NaN  \n",
      "2                  0.08758          NaN  \n",
      "3                  0.17300          NaN  \n",
      "4                  0.07678          NaN  \n",
      "\n",
      "Missing values per column:\n",
      "diagnosis                  0\n",
      "radius_mean                0\n",
      "texture_mean               0\n",
      "perimeter_mean             0\n",
      "area_mean                  0\n",
      "smoothness_mean            0\n",
      "compactness_mean           0\n",
      "concavity_mean             0\n",
      "concave points_mean        0\n",
      "symmetry_mean              0\n",
      "fractal_dimension_mean     0\n",
      "radius_se                  0\n",
      "texture_se                 0\n",
      "perimeter_se               0\n",
      "area_se                    0\n",
      "smoothness_se              0\n",
      "compactness_se             0\n",
      "concavity_se               0\n",
      "concave points_se          0\n",
      "symmetry_se                0\n",
      "fractal_dimension_se       0\n",
      "radius_worst               0\n",
      "texture_worst              0\n",
      "perimeter_worst            0\n",
      "area_worst                 0\n",
      "smoothness_worst           0\n",
      "compactness_worst          0\n",
      "concavity_worst            0\n",
      "concave points_worst       0\n",
      "symmetry_worst             0\n",
      "fractal_dimension_worst    0\n",
      "dtype: int64\n",
      "\n",
      "Shape after dropping NA rows: (569, 31)\n"
     ]
    }
   ],
   "source": [
    "# Load\n",
    "df = pd.read_csv('data.csv')\n",
    "print(\"Shape:\", df.shape)\n",
    "print(\"First 5 rows:\")\n",
    "print(df.head())\n",
    "\n",
    "# Drop obvious helper columns if present\n",
    "df = df.drop(columns=[c for c in ['id', 'Unnamed: 32', 'Unnamed: 0'] if c in df.columns], errors='ignore')\n",
    "\n",
    "# Missing values\n",
    "print(\"\\nMissing values per column:\")\n",
    "print(df.isna().sum())\n",
    "\n",
    "# Simple handling for this challenge: drop NA rows\n",
    "df = df.dropna()\n",
    "print(\"\\nShape after dropping NA rows:\", df.shape)\n",
    "\n",
    "# Safety check for target\n",
    "if 'diagnosis' not in df.columns:\n",
    "    raise ValueError(\"Column 'diagnosis' not found in the dataset.\")\n"
   ]
  },
  {
   "cell_type": "code",
   "execution_count": 5,
   "id": "feff7676",
   "metadata": {},
   "outputs": [
    {
     "data": {
      "image/png": "[encoded data removed]",
      "text/plain": [
       "<Figure size 500x300 with 1 Axes>"
      ]
     },
     "metadata": {},
     "output_type": "display_data"
    },
    {
     "name": "stdout",
     "output_type": "stream",
     "text": [
      "\n",
      "Diagnosis value counts:\n",
      "diagnosis\n",
      "B    357\n",
      "M    212\n",
      "Name: count, dtype: int64\n"
     ]
    }
   ],
   "source": [
    "plt.figure(figsize=(5,3))\n",
    "sns.countplot(x='diagnosis', data=df, palette='magma')\n",
    "plt.title('Diagnosis Count')\n",
    "plt.show()\n",
    "\n",
    "print(\"\\nDiagnosis value counts:\")\n",
    "print(df['diagnosis'].value_counts())\n"
   ]
  },
  {
   "cell_type": "code",
   "execution_count": 6,
   "id": "ed9fd8c7",
   "metadata": {},
   "outputs": [
    {
     "name": "stdout",
     "output_type": "stream",
     "text": [
      "Train shape: (455, 30)  Test shape: (114, 30)\n"
     ]
    }
   ],
   "source": [
    "# Map diagnosis to numeric (M=1, B=0)\n",
    "y = df['diagnosis'].map({'M': 1, 'B': 0}).astype(int)\n",
    "\n",
    "# Features = all numeric columns except 'diagnosis'\n",
    "X = df.drop(columns=['diagnosis'])\n",
    "\n",
    "# Train/test split\n",
    "X_train, X_test, y_train, y_test = train_test_split(\n",
    "    X, y, test_size=0.20, stratify=y, random_state=RANDOM_STATE\n",
    ")\n",
    "print(\"Train shape:\", X_train.shape, \" Test shape:\", X_test.shape)\n",
    "\n",
    "# Scale features (helps LR, KNN, SVM; RF is fine either way)\n",
    "scaler = StandardScaler()\n",
    "X_train_s = scaler.fit_transform(X_train)\n",
    "X_test_s  = scaler.transform(X_test)\n"
   ]
  },
  {
   "cell_type": "code",
   "execution_count": 7,
   "id": "bb154b49",
   "metadata": {},
   "outputs": [
    {
     "name": "stdout",
     "output_type": "stream",
     "text": [
      "Logistic Regression accuracy: 0.9649\n"
     ]
    }
   ],
   "source": [
    "log_clf = LogisticRegression(max_iter=2000, random_state=RANDOM_STATE)\n",
    "log_clf.fit(X_train_s, y_train)\n",
    "log_pred = log_clf.predict(X_test_s)\n",
    "log_acc = accuracy_score(y_test, log_pred)\n",
    "print(\"Logistic Regression accuracy:\", round(log_acc, 4))\n"
   ]
  },
  {
   "cell_type": "code",
   "execution_count": 8,
   "id": "33ab20e6",
   "metadata": {},
   "outputs": [
    {
     "name": "stdout",
     "output_type": "stream",
     "text": [
      "KNN accuracy: 0.9561\n"
     ]
    }
   ],
   "source": [
    "knn_clf = KNeighborsClassifier(n_neighbors=5)\n",
    "knn_clf.fit(X_train_s, y_train)\n",
    "knn_pred = knn_clf.predict(X_test_s)\n",
    "knn_acc = accuracy_score(y_test, knn_pred)\n",
    "print(\"KNN accuracy:\", round(knn_acc, 4))\n"
   ]
  },
  {
   "cell_type": "code",
   "execution_count": 9,
   "id": "04c565a8",
   "metadata": {},
   "outputs": [
    {
     "name": "stdout",
     "output_type": "stream",
     "text": [
      "Random Forest accuracy: 0.9649\n"
     ]
    }
   ],
   "source": [
    "rf_clf = RandomForestClassifier(n_estimators=200, random_state=RANDOM_STATE)\n",
    "rf_clf.fit(X_train, y_train)       # RF works fine on unscaled features\n",
    "rf_pred = rf_clf.predict(X_test)\n",
    "rf_acc = accuracy_score(y_test, rf_pred)\n",
    "print(\"Random Forest accuracy:\", round(rf_acc, 4))\n"
   ]
  },
  {
   "cell_type": "code",
   "execution_count": 10,
   "id": "789fbfad",
   "metadata": {},
   "outputs": [
    {
     "name": "stdout",
     "output_type": "stream",
     "text": [
      "SVM (linear) accuracy: 0.9649\n"
     ]
    }
   ],
   "source": [
    "# Linear SVM is very fast; RBF is also fast here, but linear is guaranteed snappy.\n",
    "svm_clf = SVC(kernel='linear', C=1.0, gamma='scale', random_state=RANDOM_STATE)\n",
    "svm_clf.fit(X_train_s, y_train)\n",
    "svm_pred = svm_clf.predict(X_test_s)\n",
    "svm_acc = accuracy_score(y_test, svm_pred)\n",
    "print(\"SVM (linear) accuracy:\", round(svm_acc, 4))\n"
   ]
  },
  {
   "cell_type": "code",
   "execution_count": 11,
   "id": "72965b8d",
   "metadata": {},
   "outputs": [
    {
     "name": "stdout",
     "output_type": "stream",
     "text": [
      "Best model by accuracy: Logistic Regression with score: 0.9649\n",
      "All scores: {'Logistic Regression': 0.9649, 'KNN': 0.9561, 'Random Forest': 0.9649, 'SVM (linear)': 0.9649}\n"
     ]
    }
   ],
   "source": [
    "scores = {\n",
    "    \"Logistic Regression\": log_acc,\n",
    "    \"KNN\": knn_acc,\n",
    "    \"Random Forest\": rf_acc,\n",
    "    \"SVM (linear)\": svm_acc\n",
    "}\n",
    "best_model = max(scores, key=scores.get)\n",
    "print(\"Best model by accuracy:\", best_model, \"with score:\", round(scores[best_model], 4))\n",
    "print(\"All scores:\", {k: round(v, 4) for k, v in scores.items()})\n"
   ]
  }
 ],
 "metadata": {
  "kernelspec": {
   "display_name": "base",
   "language": "python",
   "name": "python3"
  },
  "language_info": {
   "codemirror_mode": {
    "name": "ipython",
    "version": 3
   },
   "file_extension": ".py",
   "mimetype": "text/x-python",
   "name": "python",
   "nbconvert_exporter": "python",
   "pygments_lexer": "ipython3",
   "version": "3.12.2"
  }
 },
 "nbformat": 4,
 "nbformat_minor": 5
}
