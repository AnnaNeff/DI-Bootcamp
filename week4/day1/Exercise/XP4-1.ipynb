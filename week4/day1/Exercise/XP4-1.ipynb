{
 "cells": [
  {
   "cell_type": "markdown",
   "id": "3f55f548",
   "metadata": {},
   "source": [
    "🌟 Exercise 1 : Array Creation and Manipulation\n",
    "Instructions\n",
    "Create a 1D NumPy array containing numbers from 0 to 9.\n",
    "\n",
    "Expected Output:\n",
    "\n",
    "\n",
    "\n",
    "array([0, 1, 2, 3, 4, 5, 6, 7, 8, 9])"
   ]
  },
  {
   "cell_type": "code",
   "execution_count": 4,
   "id": "8d8aa1a2",
   "metadata": {},
   "outputs": [
    {
     "name": "stdout",
     "output_type": "stream",
     "text": [
      "[0 1 2 3 4 5 6 7 8 9]\n"
     ]
    }
   ],
   "source": [
    "import numpy as np\n",
    "a = np.arange(10)\n",
    "print(a)"
   ]
  },
  {
   "cell_type": "markdown",
   "id": "28fdd85e",
   "metadata": {},
   "source": [
    "🌟 Exercise 2 : Type Conversion and Array Operations\n",
    "Instructions\n",
    "Convert a list [3.14, 2.17, 0, 1, 2] into a NumPy array and convert its data type to integer.\n",
    "\n",
    "Expected Output:\n",
    "\n",
    "\n",
    "\n",
    "array([3, 2, 0, 1, 2])"
   ]
  },
  {
   "cell_type": "code",
   "execution_count": 6,
   "id": "fd7a1d00",
   "metadata": {},
   "outputs": [
    {
     "name": "stdout",
     "output_type": "stream",
     "text": [
      "[3 2 0 1 2]\n"
     ]
    }
   ],
   "source": [
    "l =  [3.14, 2.17, 0, 1, 2]\n",
    "b = np.array(l, dtype=int)\n",
    "print(b)"
   ]
  },
  {
   "cell_type": "markdown",
   "id": "2baec245",
   "metadata": {},
   "source": [
    "🌟 Exercise 3 : Working with Multi-Dimensional Arrays\n",
    "Instructions\n",
    "Create a 3x3 NumPy array with values ranging from 1 to 9.\n",
    "\n",
    "Expected Output:\n",
    "\n",
    "\n",
    "\n",
    "array([[1, 2, 3],\n",
    "       [4, 5, 6],\n",
    "       [7, 8, 9]])"
   ]
  },
  {
   "cell_type": "code",
   "execution_count": 21,
   "id": "7eaa07a2",
   "metadata": {},
   "outputs": [
    {
     "name": "stdout",
     "output_type": "stream",
     "text": [
      "[[1 2 3]\n",
      " [4 5 6]\n",
      " [7 8 9]]\n"
     ]
    }
   ],
   "source": [
    "c = np.arange(1,10).reshape(3,3)\n",
    "print(c)"
   ]
  },
  {
   "cell_type": "markdown",
   "id": "b402abba",
   "metadata": {},
   "source": [
    "🌟 Exercise 4 : Creating Multi-Dimensional Array with Random Numbers\n",
    "Instructions\n",
    "Create a 2D NumPy array of shape (4, 5) filled with random numbers.\n",
    "\n",
    "Expected Output:\n",
    "\n",
    "\n",
    "\n",
    "array([[0.56, 0.85, 0.01, 0.42, 0.68],\n",
    "       [0.22, 0.37, 0.73, 0.93, 0.39],\n",
    "       [0.44, 0.03, 0.87, 0.02, 0.83],\n",
    "       [0.78, 0.87, 0.98, 0.80, 0.46]])"
   ]
  },
  {
   "cell_type": "code",
   "execution_count": 30,
   "id": "2634fbbe",
   "metadata": {},
   "outputs": [
    {
     "name": "stdout",
     "output_type": "stream",
     "text": [
      "[[0.6806944  0.62187422 0.7063762  0.95301424 0.89479311]\n",
      " [0.80678263 0.44052202 0.09516642 0.39685844 0.46306021]\n",
      " [0.40288343 0.41821174 0.40918295 0.3217153  0.52956855]\n",
      " [0.23960923 0.59640293 0.2303949  0.21229995 0.46595171]]\n"
     ]
    }
   ],
   "source": [
    "d = np.random.rand(4, 5)\n",
    "print(d)"
   ]
  },
  {
   "cell_type": "markdown",
   "id": "cd396c47",
   "metadata": {},
   "source": [
    "🌟 Exercise 5 : Indexing Arrays\n",
    "Instructions\n",
    "Select the second row from a given 2D NumPy array.\n",
    "\n",
    "Expected Output:\n",
    "\n",
    "\n",
    "\n",
    "array = np.array([[21,22,23,22,22],[20, 21, 22, 23, 24],[21,22,23,22,22]])"
   ]
  },
  {
   "cell_type": "code",
   "execution_count": 31,
   "id": "9b46da8e",
   "metadata": {},
   "outputs": [
    {
     "name": "stdout",
     "output_type": "stream",
     "text": [
      "[20 21 22 23 24]\n"
     ]
    }
   ],
   "source": [
    "array = np.array([[21,22,23,22,22],[20, 21, 22, 23, 24],[21,22,23,22,22]])\n",
    "print(array[1])"
   ]
  },
  {
   "cell_type": "markdown",
   "id": "203b53a9",
   "metadata": {},
   "source": [
    "🌟 Exercise 6 : Reversing elements\n",
    "Instructions\n",
    "Reverse the order of elements in a given 1D NumPy array (first element becomes last).\n",
    "\n",
    "Expected Output:\n",
    "\n",
    "\n",
    "\n",
    "array([9, 8, 7, 6, 5, 4, 3, 2, 1, 0])\n"
   ]
  },
  {
   "cell_type": "code",
   "execution_count": 38,
   "id": "e3e451f2",
   "metadata": {},
   "outputs": [
    {
     "name": "stdout",
     "output_type": "stream",
     "text": [
      "[9 8 7 6 5 4 3 2 1 0]\n"
     ]
    }
   ],
   "source": [
    "array =np. arange(10)\n",
    "array_rev = array[::-1]\n",
    "print(array_rev)"
   ]
  },
  {
   "cell_type": "markdown",
   "id": "0eda8812",
   "metadata": {},
   "source": [
    "🌟 Exercise 7 : Identity Matrix\n",
    "Instructions\n",
    "Create a 4x4 identity matrix using NumPy.\n",
    "\n",
    "Expected Output:\n",
    "\n",
    "\n",
    "\n",
    "array([[1., 0., 0., 0.],\n",
    "       [0., 1., 0., 0.],\n",
    "       [0., 0., 1., 0.],\n",
    "       [0., 0., 0., 1.]])\n"
   ]
  },
  {
   "cell_type": "code",
   "execution_count": 44,
   "id": "d159d1ef",
   "metadata": {},
   "outputs": [
    {
     "name": "stdout",
     "output_type": "stream",
     "text": [
      "[[1. 0. 0. 0.]\n",
      " [0. 1. 0. 0.]\n",
      " [0. 0. 1. 0.]\n",
      " [0. 0. 0. 1.]]\n"
     ]
    }
   ],
   "source": [
    "array = np.eye(4)\n",
    "print(array)\n"
   ]
  },
  {
   "cell_type": "markdown",
   "id": "daed1f47",
   "metadata": {},
   "source": [
    "🌟 Exercise 8 : Simple Aggregate Funcs\n",
    "Instructions\n",
    "Find the sum and average of a given 1D array.\n",
    "\n",
    "Expected Output:\n",
    "\n",
    "\n",
    "\n",
    "Sum: 45, Average: 4.5\n"
   ]
  },
  {
   "cell_type": "code",
   "execution_count": 49,
   "id": "2b589bc0",
   "metadata": {},
   "outputs": [
    {
     "name": "stdout",
     "output_type": "stream",
     "text": [
      "Sum: 45\n",
      "Average: 4.5\n"
     ]
    }
   ],
   "source": [
    "array = np.arange(10)\n",
    "print(f'Sum: {array.sum()}')\n",
    "print(f'Average: {array.mean()}')"
   ]
  },
  {
   "cell_type": "markdown",
   "id": "e76812f4",
   "metadata": {},
   "source": [
    "🌟 Exercise 9 : Create Array and Change its Structure\n",
    "Instructions\n",
    "Create a NumPy array with elements from 1 to 20; then reshape it into a 4x5 matrix.\n",
    "\n",
    "Expected Output:\n",
    "\n",
    "\n",
    "\n",
    "array([[ 1,  2,  3,  4,  5],\n",
    "       [ 6,  7,  8,  9, 10],\n",
    "       [11, 12, 13, 14, 15],\n",
    "       [16, 17, 18, 19, 20]])\n"
   ]
  },
  {
   "cell_type": "code",
   "execution_count": 53,
   "id": "e5713725",
   "metadata": {},
   "outputs": [
    {
     "name": "stdout",
     "output_type": "stream",
     "text": [
      "[[ 1  2  3  4  5]\n",
      " [ 6  7  8  9 10]\n",
      " [11 12 13 14 15]\n",
      " [16 17 18 19 20]]\n"
     ]
    }
   ],
   "source": [
    "array = np.arange(1,21)\n",
    "reshaped_array = array.reshape(4,5)\n",
    "print(reshaped_array)"
   ]
  },
  {
   "cell_type": "markdown",
   "id": "df4c0e74",
   "metadata": {},
   "source": [
    "🌟 Exercise 10 : Conditional Selection of Values\n",
    "Instructions\n",
    "Extract all odd numbers from a given NumPy array.\n",
    "\n",
    "Expected Output:\n",
    "\n",
    "\n",
    "\n",
    "array([1, 3, 5, 7, 9])\n"
   ]
  },
  {
   "cell_type": "code",
   "execution_count": 57,
   "id": "c980e3dd",
   "metadata": {},
   "outputs": [
    {
     "name": "stdout",
     "output_type": "stream",
     "text": [
      "[1 3 5 7 9]\n"
     ]
    }
   ],
   "source": [
    "array = np.arange(1,11)\n",
    "odds = array[array % 2 == 1]\n",
    "print(odds)\n",
    "\n"
   ]
  }
 ],
 "metadata": {
  "kernelspec": {
   "display_name": "base",
   "language": "python",
   "name": "python3"
  },
  "language_info": {
   "codemirror_mode": {
    "name": "ipython",
    "version": 3
   },
   "file_extension": ".py",
   "mimetype": "text/x-python",
   "name": "python",
   "nbconvert_exporter": "python",
   "pygments_lexer": "ipython3",
   "version": "3.12.2"
  }
 },
 "nbformat": 4,
 "nbformat_minor": 5
}
