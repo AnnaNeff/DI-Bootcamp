{
 "cells": [
  {
   "cell_type": "code",
   "execution_count": 38,
   "id": "1c3a14d1",
   "metadata": {},
   "outputs": [
    {
     "name": "stdout",
     "output_type": "stream",
     "text": [
      "Requirement already satisfied: numpy in /opt/anaconda3/lib/python3.12/site-packages (1.26.4)\n",
      "Note: you may need to restart the kernel to use updated packages.\n"
     ]
    }
   ],
   "source": [
    "pip install numpy"
   ]
  },
  {
   "cell_type": "code",
   "execution_count": 39,
   "id": "abcf79e1",
   "metadata": {},
   "outputs": [
    {
     "name": "stdout",
     "output_type": "stream",
     "text": [
      "1.26.4\n"
     ]
    }
   ],
   "source": [
    "import numpy as np\n",
    "print(np.__version__)"
   ]
  },
  {
   "cell_type": "code",
   "execution_count": 40,
   "id": "294f31fd",
   "metadata": {},
   "outputs": [
    {
     "name": "stdout",
     "output_type": "stream",
     "text": [
      "(2, 3)\n",
      "6\n",
      "int64\n",
      "(2, 2, 2)\n",
      "8\n",
      "float32\n"
     ]
    }
   ],
   "source": [
    "import numpy as np\n",
    "\n",
    "# 1D\n",
    "a1 = np.array([1, 2, 3, 4, 5])\n",
    "\n",
    "# 2D\n",
    "a2 = np.array([[1, 2, 3],\n",
    "               [4, 5, 6]])\n",
    "\n",
    "# 3D (например, 2 «слоя» 2×2)\n",
    "a3 = np.array([[[1, 2], [3, 4]],\n",
    "               [[5, 6], [7, 8]]], dtype='float32')\n",
    "\n",
    "print(a2.shape)  # (2, 3) — 2 строки, 3 столбца\n",
    "print(a2.size)   # 6       — всего элементов\n",
    "print(a2.dtype)  # тип (например, int64)i\n",
    "\n",
    "# Лайфхак: укажи тип сразу — np.array([1, 2, 3], dtype='float32') — и сэкономишь память/время.\n",
    "\n",
    "print(a3.shape)\n",
    "print(a3.size)\n",
    "print(a3.dtype)"
   ]
  },
  {
   "cell_type": "code",
   "execution_count": 41,
   "id": "2f012b0b",
   "metadata": {},
   "outputs": [
    {
     "name": "stdout",
     "output_type": "stream",
     "text": [
      "[10. 20. 30. 40.]\n",
      "[-1.34164079 -0.4472136   0.4472136   1.34164079]\n"
     ]
    }
   ],
   "source": [
    "x = np.array([1, 2, 3, 4], dtype=float)\n",
    "print(x * 10)        # [10. 20. 30. 40.]\n",
    "print((x - x.mean()) / x.std())  # стандартизация без циклов"
   ]
  },
  {
   "cell_type": "code",
   "execution_count": 42,
   "id": "5eadf64d",
   "metadata": {},
   "outputs": [
    {
     "name": "stdout",
     "output_type": "stream",
     "text": [
      "6\n",
      "[4 5 6]\n",
      "[1 4 7]\n"
     ]
    }
   ],
   "source": [
    "A = np.array([[1, 2, 3],\n",
    "              [4, 5, 6],\n",
    "              [7, 8, 9]])\n",
    "\n",
    "print(A[1, 2])   # 6  (2-я строка, 3-й столбец)\n",
    "print(A[1, :])   # [4 5 6] — вся 2-я строка\n",
    "print(A[:, 0])   # [1 4 7] — весь 1-й столбец"
   ]
  },
  {
   "cell_type": "code",
   "execution_count": 43,
   "id": "45fcf286",
   "metadata": {},
   "outputs": [
    {
     "name": "stdout",
     "output_type": "stream",
     "text": [
      "[2 3 4 5 6]\n",
      "[0 2 4 6 8]\n",
      "[[2 3]\n",
      " [5 6]]\n"
     ]
    }
   ],
   "source": [
    "b = np.arange(10)      # [0 1 2 3 4 5 6 7 8 9]\n",
    "print(b[2:7])          # [2 3 4 5 6]\n",
    "print(b[::2])          # [0 2 4 6 8]\n",
    "print(A[0:2, 1:3])     # [[2 3],\n",
    "                       #  [5 6]]"
   ]
  },
  {
   "cell_type": "code",
   "execution_count": 44,
   "id": "de52456e",
   "metadata": {},
   "outputs": [
    {
     "name": "stdout",
     "output_type": "stream",
     "text": [
      "[30 40 50]\n",
      "[2 9]\n"
     ]
    }
   ],
   "source": [
    "arr = np.array([10, 20, 30, 40, 50])\n",
    "print(arr[arr > 25])     # [30 40 50] — фильтр по условию\n",
    "\n",
    "rows = [0, 2]\n",
    "cols = [1, 2]\n",
    "print(A[rows, cols])     # [2 9] — выборка по спискам индексов"
   ]
  },
  {
   "cell_type": "code",
   "execution_count": 45,
   "id": "4f971d61",
   "metadata": {},
   "outputs": [
    {
     "name": "stdout",
     "output_type": "stream",
     "text": [
      "[  0 100   2   3   4]\n"
     ]
    }
   ],
   "source": [
    "# Срез — это view (представление), изменения затрагивают исходный массив.\n",
    "\n",
    "x = np.arange(5)\n",
    "y = x[1:4]     # view\n",
    "y[0] = 100\n",
    "print(x)       # [  0 100   2   3   4]\n",
    "\n",
    "# Нужна копия? Делай .copy()\n",
    "z = x[1:4].copy()"
   ]
  },
  {
   "cell_type": "code",
   "execution_count": 46,
   "id": "486b17bf",
   "metadata": {},
   "outputs": [
    {
     "name": "stdout",
     "output_type": "stream",
     "text": [
      "[10 31 48 47 14 27]\n",
      "[[0.00144024 0.85614469 0.90894276]\n",
      " [0.18869125 0.57050708 0.31592056]]\n",
      "[ 1.27374067 -0.92668659 -1.13383775]\n"
     ]
    },
    {
     "data": {
      "text/plain": [
       "array([0.  , 0.25, 0.5 , 0.75, 1.  ])"
      ]
     },
     "execution_count": 46,
     "metadata": {},
     "output_type": "execute_result"
    }
   ],
   "source": [
    "# Генерация чисел и перемешивание\n",
    "print(np.random.randint(10, 50, 6))  # 6 целых в [10, 50)\n",
    "print(np.random.rand(2, 3))       # 2×3 из [0,1)\n",
    "print(np.random.randn(3))           # 3 из N(0,1)\n",
    "\n",
    "x = np.arange(1, 8)\n",
    "np.random.permutation(x)      # перемешанная копия x\n",
    "\n",
    "\n",
    "# Быстрый диапазон:\n",
    "\n",
    "np.arange(10)      # 0..9\n",
    "np.linspace(0, 1, 5)  # 5 точек от 0 до 1 включительно | array([0.  , 0.25, 0.5 , 0.75, 1.  ])\n"
   ]
  },
  {
   "cell_type": "code",
   "execution_count": 47,
   "id": "fdf48d3b",
   "metadata": {},
   "outputs": [
    {
     "name": "stdout",
     "output_type": "stream",
     "text": [
      "[  1 500 100 500   5]\n"
     ]
    }
   ],
   "source": [
    "# Изменение массива через индексацию\n",
    "arr = np.array([1, 2, 3, 4, 5])\n",
    "arr[2] = 10                    # точечная замена\n",
    "arr[1:4] = [20, 30, 40]        # замена среза\n",
    "arr[arr > 10] = 100            # условная замена\n",
    "arr[[1, 3]] = 500              # fancy-индексация\n",
    "print(arr)"
   ]
  },
  {
   "cell_type": "code",
   "execution_count": 48,
   "id": "6eaa8a02",
   "metadata": {},
   "outputs": [
    {
     "name": "stdout",
     "output_type": "stream",
     "text": [
      "a:\n",
      "[6 7 8]\n",
      "b:\n",
      "[[1 3 5]\n",
      " [4 6 8]]\n",
      "c + d:\n",
      "[[2 3 4]\n",
      " [3 4 5]\n",
      " [4 5 6]]\n"
     ]
    }
   ],
   "source": [
    "# Арифметика и broadcasting\n",
    "\n",
    "# Broadcasting — правило, по которому NumPy «растягивает» меньшие массивы до формы большего для поэлементных операций.\n",
    "\n",
    "# Примеры\n",
    "a = np.array([1, 2, 3])\n",
    "print(f'a:\\n{a + 5}')                 # [6 7 8]     — скаляр на вектор\n",
    "\n",
    "B = np.array([[0, 1, 2],\n",
    "              [3, 4, 5]])\n",
    "print(f'b:\\n{B + a}')                 # прибавит [1,2,3] к каждой строке\n",
    "\n",
    "c = np.array([[1],\n",
    "              [2],\n",
    "              [3]])\n",
    "d = np.array([1, 2, 3])\n",
    "print(f'c + d:\\n{c + d}')                 # «крест-складка» → 3×3 матрица"
   ]
  },
  {
   "cell_type": "code",
   "execution_count": 49,
   "id": "8744bf8b",
   "metadata": {},
   "outputs": [],
   "source": [
    "# Частые задачи с broadcasting\n",
    "\n",
    "# Нормализация по строкам/столбцам:\n",
    "\n",
    "X = np.array([[1., 2., 3.],\n",
    "              [4., 5., 6.],\n",
    "              [7., 8., 9.]])\n",
    "\n",
    "col_sum = X.sum(axis=0, keepdims=True)   # (1,3)\n",
    "X_col_norm = X / col_sum                  # деление каждого столбца на его сумму\n",
    "\n",
    "row_sum = X.sum(axis=1, keepdims=True)   # (3,1)\n",
    "X_row_norm = X / row_sum\n",
    "\n",
    "\n",
    "# Внешнее произведение (outer product):\n",
    "\n",
    "u = np.array([1, 2, 3]).reshape(-1, 1)  # (3,1)\n",
    "v = np.array([1, 2, 3])                 # (3,)\n",
    "M = u * v                               # (3,3)\n"
   ]
  },
  {
   "cell_type": "code",
   "execution_count": 50,
   "id": "a00f440b",
   "metadata": {},
   "outputs": [
    {
     "data": {
      "text/plain": [
       "(1, 6)"
      ]
     },
     "execution_count": 50,
     "metadata": {},
     "output_type": "execute_result"
    }
   ],
   "source": [
    "# Агрегации: sum, mean, min, max (и оси)\n",
    "\n",
    "# По умолчанию — по всем элементам; axis ограничивает направление:\n",
    "\n",
    "A = np.array([[1, 2, 3],\n",
    "              [4, 5, 6]])\n",
    "\n",
    "np.sum(A)            # 21 — все элементы\n",
    "np.sum(A, axis=0)    # [5 7 9]   — по столбцам\n",
    "np.sum(A, axis=1)    # [6 15]    — по строкам\n",
    "\n",
    "np.mean(A, axis=0)   # среднее по столбцам\n",
    "np.min(A), np.max(A)"
   ]
  },
  {
   "cell_type": "code",
   "execution_count": 51,
   "id": "3279465e",
   "metadata": {},
   "outputs": [
    {
     "name": "stdout",
     "output_type": "stream",
     "text": [
      "21.6\n",
      "2.0\n",
      "39.205101708833766\n"
     ]
    }
   ],
   "source": [
    "# Важная статистика: mean, median, std (и распределения)\n",
    "x = np.array([1, 2, 2, 3, 100])\n",
    "print(np.mean(x))     # среднее\n",
    "print(np.median(x))   # медиана (устойчива к выбросам)\n",
    "print(np.std(x))      # стандартное отклонение\n",
    "\n",
    "\n",
    "# Для нормального распределения mean ≈ median, «большая часть» точек в пределах ±1σ.\n",
    "\n",
    "# Для скошенного (asymmetric) распределения медиана надёжнее среднего как «центра»."
   ]
  },
  {
   "cell_type": "code",
   "execution_count": 52,
   "id": "61e4f629",
   "metadata": {},
   "outputs": [
    {
     "data": {
      "text/plain": [
       "2.3333333333333335"
      ]
     },
     "execution_count": 52,
     "metadata": {},
     "output_type": "execute_result"
    }
   ],
   "source": [
    "# Работа с пропусками (NaN) и масками\n",
    "y = np.array([1., 2., np.nan, 4.])\n",
    "np.isnan(y)                 # [False False  True False]\n",
    "np.nanmean(y)               # среднее, игнорируя NaN\n",
    "\n",
    "\n",
    "# Masked arrays позволяют «скрыть» значения и считать поверх видимых:\n",
    "\n",
    "m = np.ma.masked_invalid(y)\n",
    "m.mean()                    # игнорирует замаскированные элементы"
   ]
  },
  {
   "cell_type": "code",
   "execution_count": 53,
   "id": "53774477",
   "metadata": {},
   "outputs": [
    {
     "name": "stdout",
     "output_type": "stream",
     "text": [
      "[[1 2 3]\n",
      " [4 5 6]]\n",
      "[[1 2]\n",
      " [3 4]\n",
      " [5 6]]\n",
      "[[1 2 3]\n",
      " [4 5 6]]\n",
      "[[1 3 5]\n",
      " [2 4 6]]\n"
     ]
    }
   ],
   "source": [
    "# Преобразования данных: reshape и transpose\n",
    "# Reshape (переформование)\n",
    "\n",
    "# Меняем форму без копирования данных (если возможно):\n",
    "\n",
    "data = np.arange(1, 7)      # [1 2 3 4 5 6]\n",
    "print(data.reshape(2, 3))\n",
    "print(data.reshape(3, 2))\n",
    "# Универсально:\n",
    "print(data.reshape(-1, 3))  # «подбери нужное число строк»\n",
    "\n",
    "\n",
    "# Ошибка будет, если итоговое число элементов не совпадает.\n",
    "\n",
    "# Transpose (перестановка осей)\n",
    "\n",
    "M = np.array([[1, 2],\n",
    "              [3, 4],\n",
    "              [5, 6]])\n",
    "print(M.T)     # [[1,3,5],\n",
    "               #  [2,4,6]]\n",
    "\n",
    "\n",
    "# Комбинируй reshape и .T для подготовки данных к моделям/визуализациям, матричным операциям."
   ]
  },
  {
   "cell_type": "code",
   "execution_count": null,
   "id": "0f000487",
   "metadata": {},
   "outputs": [],
   "source": [
    "# Базовые операции с изображениями (пример со средним по каналу)\n",
    "\n",
    "# Идея: RGB-картинка — это массив H×W×3. Если посчитать среднее по оси цветов — получим градации серого.\n",
    "\n",
    "from PIL import Image\n",
    "import numpy as np\n",
    "\n",
    "img = Image.open('soldier.png')\n",
    "arr = np.array(img)               # (H, W, 3)\n",
    "gray = arr.mean(axis=2).round().astype(np.uint8)\n",
    "Image.fromarray(gray).save('out.jpg')\n",
    "\n",
    "\n",
    "# Важно привести тип к uint8, иначе сохранение может дать неожиданные цвета.\n"
   ]
  },
  {
   "cell_type": "markdown",
   "id": "6f664884",
   "metadata": {},
   "source": [
    "Оптимизация производительности\n",
    "\n",
    "Векторизация вместо циклов — главный источник ускорения.\n",
    "\n",
    "Выбирай подходящий dtype (например, float32 вместо float64, если точности хватает).\n",
    "\n",
    "Избегай лишних копий: предпочитай срезы/view, используй out= в некоторых функциях.\n",
    "\n",
    "Проверяй формы перед broadcasting — так меньше неожиданных аллокаций и ошибок."
   ]
  }
 ],
 "metadata": {
  "kernelspec": {
   "display_name": "base",
   "language": "python",
   "name": "python3"
  },
  "language_info": {
   "codemirror_mode": {
    "name": "ipython",
    "version": 3
   },
   "file_extension": ".py",
   "mimetype": "text/x-python",
   "name": "python",
   "nbconvert_exporter": "python",
   "pygments_lexer": "ipython3",
   "version": "3.12.2"
  }
 },
 "nbformat": 4,
 "nbformat_minor": 5
}
