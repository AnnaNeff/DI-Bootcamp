{
  "cells": [
    {
      "cell_type": "code",
      "execution_count": null,
      "id": "6a6121ef",
      "metadata": {
        "id": "6a6121ef"
      },
      "outputs": [],
      "source": [
        "import pandas as pd\n",
        "import numpy as np\n",
        "import matplotlib.pyplot as plt\n",
        "import seaborn as sns\n",
        "from scipy.stats import spearmanr\n",
        "df = pd.read_csv('insurance.csv')\n",
        "\n",
        "\n",
        "df.head(10)\n",
        "\n",
        "\n"
      ]
    },
    {
      "cell_type": "markdown",
      "source": [
        "#Checking and cleaning data"
      ],
      "metadata": {
        "id": "wabQ3vXXk8xO"
      },
      "id": "wabQ3vXXk8xO"
    },
    {
      "cell_type": "code",
      "execution_count": null,
      "id": "952b42b2",
      "metadata": {
        "id": "952b42b2"
      },
      "outputs": [],
      "source": [
        "print(df.info())"
      ]
    },
    {
      "cell_type": "code",
      "execution_count": null,
      "id": "7f699fba",
      "metadata": {
        "id": "7f699fba"
      },
      "outputs": [],
      "source": [
        "print(df.isnull().sum())"
      ]
    },
    {
      "cell_type": "code",
      "execution_count": null,
      "id": "932f11f9",
      "metadata": {
        "id": "932f11f9"
      },
      "outputs": [],
      "source": [
        "print(df.duplicated().sum())\n",
        "print(df['sex'].unique())\n",
        "print(df['age'].unique())\n",
        "print(df['children'].unique())\n",
        "print(df['smoker'].unique())\n",
        "print(df['region'].unique())\n",
        "df.nunique()"
      ]
    },
    {
      "cell_type": "code",
      "source": [
        "print(\"Minimum charges: $\",df['charges'].min())\n",
        "print(\"Maximum charges: $\",df['charges'].max())\n",
        "print(\"Minimum BMI:\",df['bmi'].min())\n",
        "print(\"Maximum BMI:\",df['bmi'].max())"
      ],
      "metadata": {
        "id": "s1Gp1_uq7onU"
      },
      "id": "s1Gp1_uq7onU",
      "execution_count": null,
      "outputs": []
    },
    {
      "cell_type": "code",
      "source": [
        "print(df.duplicated().sum())"
      ],
      "metadata": {
        "id": "82NYxR9il37x"
      },
      "id": "82NYxR9il37x",
      "execution_count": null,
      "outputs": []
    },
    {
      "cell_type": "code",
      "source": [
        "df[df.duplicated()]"
      ],
      "metadata": {
        "id": "7BWOIzUgJWWY"
      },
      "id": "7BWOIzUgJWWY",
      "execution_count": null,
      "outputs": []
    },
    {
      "cell_type": "code",
      "source": [
        "df[(df[\"bmi\"] == 30.59) & (df[\"charges\"] ==1639.5631 )]"
      ],
      "metadata": {
        "id": "kXD6QcjBm_A4"
      },
      "id": "kXD6QcjBm_A4",
      "execution_count": null,
      "outputs": []
    },
    {
      "cell_type": "code",
      "source": [
        "df.drop_duplicates(inplace=True)\n",
        "print(df.duplicated().sum())"
      ],
      "metadata": {
        "id": "BkqS5A0zJY5f"
      },
      "id": "BkqS5A0zJY5f",
      "execution_count": null,
      "outputs": []
    },
    {
      "cell_type": "markdown",
      "source": [
        "#Categorizing data"
      ],
      "metadata": {
        "id": "hEO2YX22nPKf"
      },
      "id": "hEO2YX22nPKf"
    },
    {
      "cell_type": "code",
      "source": [
        "df['age_group'] = df['age'].apply(lambda x: '<35' if x <35 else ('35-44' if x <=44 else ('45-54' if x <=54 else('55-64' if x <=64 else '65+'))))\n",
        "df['bmi_group'] = df['bmi'].apply(lambda x: 'normal' if x <= 24.9 else ('overweight' if x <= 30 else 'obese'))\n",
        "groups = (\n",
        "    df.groupby(['sex','age_group','bmi_group','smoker'], observed=True)\n",
        "      .agg(\n",
        "          n=('charges', 'size'),\n",
        "          median=('charges', 'median'),\n",
        "          min=('charges', 'min'),\n",
        "          max=('charges', 'max')\n",
        "      )\n",
        "      .reset_index()\n",
        ")\n",
        "cols_to_round = ['median', 'min', 'max']\n",
        "groups[cols_to_round] = groups[cols_to_round].round(2)\n",
        "groups['n'] = groups['n'].astype(int)\n",
        "\n",
        "# смотреть топ по размеру группы\n",
        "groups.sort_values('n', ascending=False).head()\n",
        "\n",
        "groups.head().sort_values(by='n', ascending=False)"
      ],
      "metadata": {
        "id": "FaIVrwZ6-wrZ"
      },
      "id": "FaIVrwZ6-wrZ",
      "execution_count": null,
      "outputs": []
    },
    {
      "cell_type": "code",
      "source": [
        "tot = df['sex'].value_counts()\n",
        "ax = sns.countplot(\n",
        "    data=df,\n",
        "    x='sex',\n",
        "    order=['female','male'],\n",
        "    palette=['pink', 'lightblue']  # female -> pink, male -> lightblue\n",
        ")\n",
        "ax.set_ylabel('count')\n",
        "ax.set_xlabel(f\"female {tot.get('female',0)} | male {tot.get('male',0)}\")\n",
        "plt.show()"
      ],
      "metadata": {
        "id": "y-QEP1HYDNBa"
      },
      "id": "y-QEP1HYDNBa",
      "execution_count": null,
      "outputs": []
    },
    {
      "cell_type": "code",
      "source": [
        "\n",
        "df_plot = df.copy()\n",
        "df_plot['smoker'] = df_plot['smoker'].replace({'yes': 'Smoker', 'no': 'Non-smoker'})\n",
        "\n",
        "tot = df_plot['smoker'].value_counts()\n",
        "\n",
        "# Pastel red and green (order matches the 'order' parameter)\n",
        "pastel_colors = ['#FF9999', '#77DD77']  # Smoker -> pastel red, Non-smoker -> pastel green\n",
        "\n",
        "ax = sns.countplot(\n",
        "    data=df_plot,\n",
        "    x='smoker',\n",
        "    order=['Smoker','Non-smoker'],\n",
        "    palette=pastel_colors\n",
        ")\n",
        "\n",
        "ax.set_ylabel('Count')\n",
        "ax.set_xlabel(f\"Smoker {tot.get('Smoker',0)} | Non-smoker {tot.get('Non-smoker',0)}\")\n",
        "\n",
        "# Add counts on top of bars\n",
        "for c in ax.containers:\n",
        "    ax.bar_label(c, fmt='%d', padding=3)\n",
        "\n",
        "plt.show()\n"
      ],
      "metadata": {
        "id": "Np9tmvhwHjZF"
      },
      "id": "Np9tmvhwHjZF",
      "execution_count": null,
      "outputs": []
    },
    {
      "cell_type": "code",
      "source": [
        "bmi_order = ['normal', 'overweight', 'obese']\n",
        "age_order = ['<35', '35-44', '45-54', '55-64', '65+']\n",
        "\n",
        "df_plot = df.copy()\n",
        "\n",
        "df_plot['bmi_group'] = pd.Categorical(df_plot['bmi_group'], categories=bmi_order, ordered=True)\n",
        "df_plot['age_group'] = pd.Categorical(df_plot['age_group'], categories=age_order, ordered=True)\n",
        "\n",
        "bmi_counts = (df_plot['bmi_group'].value_counts()\n",
        "              .reindex(bmi_order).fillna(0).astype(int))\n",
        "age_counts = (df_plot['age_group'].value_counts()\n",
        "              .reindex(age_order).fillna(0).astype(int))\n",
        "\n",
        "\n",
        "def make_autopct(total):\n",
        "    return lambda p: f\"{p:.1f}%\\n({int(round(p*total/100))})\"\n",
        "\n",
        "colors_bmi = plt.get_cmap('Pastel1').colors[:len(bmi_order)]\n",
        "colors_age = plt.get_cmap('Pastel1').colors[:len(age_order)]\n",
        "\n",
        "fig, axes = plt.subplots(1, 2, figsize=(12, 5))\n",
        "\n",
        "\n",
        "total_bmi = int(bmi_counts.sum())\n",
        "axes[0].pie(bmi_counts.values, labels=bmi_counts.index.tolist(),\n",
        "            autopct=make_autopct(total_bmi), startangle=90,\n",
        "            colors=colors_bmi, pctdistance=0.8)\n",
        "axes[0].axis('equal')\n",
        "axes[0].set_title(f\"BMI groups (n={total_bmi})\")\n",
        "\n",
        "\n",
        "total_age = int(age_counts.sum())\n",
        "axes[1].pie(age_counts.values, labels=age_counts.index.tolist(),\n",
        "            autopct=make_autopct(total_age), startangle=90,\n",
        "            colors=colors_age, pctdistance=0.8)\n",
        "axes[1].axis('equal')\n",
        "axes[1].set_title(f\"Age groups (n={total_age})\")\n",
        "\n",
        "plt.suptitle(\"Distribution of BMI and Age groups\")\n",
        "plt.tight_layout()\n",
        "plt.show()\n",
        "\n"
      ],
      "metadata": {
        "id": "rix2T3P0F4lL"
      },
      "id": "rix2T3P0F4lL",
      "execution_count": null,
      "outputs": []
    },
    {
      "cell_type": "markdown",
      "source": [
        "#Determining which factors impact the charges\n"
      ],
      "metadata": {
        "id": "IsO97BZdoJHt"
      },
      "id": "IsO97BZdoJHt"
    },
    {
      "cell_type": "code",
      "source": [
        "# Set the style for the plots\n",
        "sns.set_style(\"whitegrid\")\n",
        "\n",
        "# Create a scatter plot for charges vs. age\n",
        "plt.figure(figsize=(10, 6))\n",
        "sns.scatterplot(x='age', y='charges', data=df)\n",
        "plt.title('1. Dependence of Medical Charges on Age', fontsize=16)\n",
        "plt.xlabel('Age')\n",
        "plt.ylabel('Charges')\n",
        "plt.show()"
      ],
      "metadata": {
        "id": "NwSCcVUyMrAp"
      },
      "id": "NwSCcVUyMrAp",
      "execution_count": null,
      "outputs": []
    },
    {
      "cell_type": "code",
      "source": [
        "# Create a scatter plot for charges vs. BMI\n",
        "plt.figure(figsize=(10, 6))\n",
        "sns.scatterplot(x='bmi', y='charges', data=df)\n",
        "plt.title('2. Dependence of Medical Charges on BMI', fontsize=16)\n",
        "plt.xlabel('bmi')\n",
        "plt.ylabel('Charges')\n",
        "plt.show()"
      ],
      "metadata": {
        "id": "99uOFxMOObig"
      },
      "id": "99uOFxMOObig",
      "execution_count": null,
      "outputs": []
    },
    {
      "cell_type": "code",
      "source": [
        "# Create a box plot for charges vs. smoker\n",
        "plt.figure(figsize=(10, 6))\n",
        "sns.boxplot(x='smoker', y='charges', data=df, palette='coolwarm')\n",
        "plt.title('4. Dependence of Medical Charges on Smoking Status', fontsize=16)\n",
        "plt.xlabel('Smoker')\n",
        "plt.ylabel('Medical Charges')\n",
        "plt.show()"
      ],
      "metadata": {
        "id": "S5P2hHxGOjf1"
      },
      "id": "S5P2hHxGOjf1",
      "execution_count": null,
      "outputs": []
    },
    {
      "cell_type": "code",
      "source": [
        "plt.figure(figsize=(10, 6))\n",
        "sns.boxplot(x='sex', y='charges', data=df, palette='coolwarm')\n",
        "plt.title('4. Dependence of Medical Charges on gender', fontsize=16)\n",
        "plt.xlabel('Gender')\n",
        "plt.ylabel('Medical Charges')\n",
        "palette=['pink', 'lightblue']\n",
        "plt.show()"
      ],
      "metadata": {
        "id": "edzJ9K5PAeT-"
      },
      "id": "edzJ9K5PAeT-",
      "execution_count": null,
      "outputs": []
    },
    {
      "cell_type": "code",
      "source": [
        "\n",
        "plt.figure(figsize=(10, 6))\n",
        "sns.boxplot(x='children', y='charges', data=df, palette='pastel')\n",
        "plt.title('3. Dependence of Medical Charges on Number of Children', fontsize=16)\n",
        "plt.xlabel('Number of Children')\n",
        "plt.ylabel('Charges')\n",
        "plt.show()"
      ],
      "metadata": {
        "id": "dNL_6jMbdFhH"
      },
      "id": "dNL_6jMbdFhH",
      "execution_count": null,
      "outputs": []
    },
    {
      "cell_type": "code",
      "source": [
        "# Create a box plot for charges vs. region\n",
        "plt.figure(figsize=(10, 6))\n",
        "sns.boxplot(x='region', y='charges', data=df, palette='viridis')\n",
        "plt.title('5. Dependence of Medical Charges on Region', fontsize=16)\n",
        "plt.xlabel('Region')\n",
        "plt.ylabel('Medical Charges')\n",
        "plt.show()"
      ],
      "metadata": {
        "id": "OZgFyLwQdlkA"
      },
      "id": "OZgFyLwQdlkA",
      "execution_count": null,
      "outputs": []
    },
    {
      "cell_type": "code",
      "source": [
        "# Charges: BMI & smoking\n",
        "\n",
        "plt.figure(figsize=(12, 8))\n",
        "sns.scatterplot(x='bmi', y='charges', hue='smoker', data=df, palette='viridis', style='smoker')\n",
        "plt.title('Medical expenses vs. BMI, by smoking status')\n",
        "plt.xlabel('BMI')\n",
        "plt.ylabel('charges')\n",
        "plt.show()\n",
        "print(\"Conclusion: The visualization shows that smokers have significantly higher costs, regardless of their BMI.\")\n"
      ],
      "metadata": {
        "id": "sRKW9XYGTgZc"
      },
      "id": "sRKW9XYGTgZc",
      "execution_count": null,
      "outputs": []
    },
    {
      "cell_type": "code",
      "source": [
        "# 1) Normalize smoker values and coerce numeric columns\n",
        "df = df.copy()\n",
        "df[\"smoker\"] = df[\"smoker\"].astype(str).str.strip().str.lower()\n",
        "\n",
        "num_cols = [\"age\", \"bmi\", \"children\", \"charges\"]\n",
        "for c in num_cols:\n",
        "    df[c] = pd.to_numeric(df[c], errors=\"coerce\")\n",
        "\n",
        "groups = [\"yes\", \"no\"]\n",
        "\n",
        "fig, axes = plt.subplots(1, 2, figsize=(10, 4), constrained_layout=True)\n",
        "\n",
        "for ax, s in zip(axes, groups):\n",
        "    sub = df[df[\"smoker\"] == s]\n",
        "    n = len(sub)\n",
        "    ax.set_title(f\"Spearman ρ — smoker={s} (n={n})\")\n",
        "\n",
        "    if n < 3:\n",
        "        ax.text(0.5, 0.5, \"Not enough rows\", ha=\"center\", va=\"center\")\n",
        "        ax.axis(\"off\")\n",
        "        continue\n",
        "\n",
        "    # 2) Drop columns that are all-NaN or constant in this subset\n",
        "    usable = []\n",
        "    for c in num_cols:\n",
        "        series = sub[c].dropna()\n",
        "        if series.nunique() >= 2:\n",
        "            usable.append(c)\n",
        "    if len(usable) < 2:\n",
        "        ax.text(0.5, 0.5, \"No varying numeric columns\", ha=\"center\", va=\"center\")\n",
        "        ax.axis(\"off\")\n",
        "        continue\n",
        "\n",
        "    # 3) Let pandas compute Spearman (handles NaNs)\n",
        "    mat = sub[usable].corr(method=\"spearman\")\n",
        "\n",
        "    # 4) Plot\n",
        "    sns.heatmap(mat, annot=True, vmin=-1, vmax=1, cmap=\"YlOrRd\", ax=ax, square=True)\n",
        "\n",
        "plt.show()"
      ],
      "metadata": {
        "id": "L8YPvMc_K3hZ"
      },
      "id": "L8YPvMc_K3hZ",
      "execution_count": null,
      "outputs": []
    },
    {
      "cell_type": "markdown",
      "source": [
        "#Finding how different factors impact charges"
      ],
      "metadata": {
        "id": "AGYswNASo44-"
      },
      "id": "AGYswNASo44-"
    },
    {
      "cell_type": "markdown",
      "source": [
        "## Data Preprocessing"
      ],
      "metadata": {
        "id": "FtjmF-DqI4nW"
      },
      "id": "FtjmF-DqI4nW"
    },
    {
      "cell_type": "code",
      "source": [
        "# categorical groups in order\n",
        "AGE_GROUP = [\"<35\", \"35-44\", \"45-54\", \"55-64\", \"65+\"]\n",
        "BMI_GROUP = [\"normal\",\"overweight\",\"obese\"]\n",
        "SEX_GROUP = ['female','male']\n",
        "\n",
        "# Bins\n",
        "AGE_BINS = [0, 34, 44, 54, 64, np.inf]\n",
        "BMI_BINS = [0, 25, 30, np.inf]"
      ],
      "metadata": {
        "id": "Ha1gQuBbI7D-"
      },
      "id": "Ha1gQuBbI7D-",
      "execution_count": null,
      "outputs": []
    },
    {
      "cell_type": "code",
      "source": [
        "def categorize_feature(df, feature_col, group_list, bin_list, right=True, include_lowest=True):\n",
        "  return pd.cut(df[feature_col], bins=bin_list, labels=group_list, right=right, include_lowest=include_lowest)"
      ],
      "metadata": {
        "id": "jzFz00ayJyy3"
      },
      "id": "jzFz00ayJyy3",
      "execution_count": null,
      "outputs": []
    },
    {
      "cell_type": "code",
      "source": [
        "df['age_group'] = categorize_feature(df, 'age', group_list=AGE_GROUP, bin_list=AGE_BINS)\n",
        "df[['age', 'age_group']].tail()"
      ],
      "metadata": {
        "id": "XDRw8IF9KRq2"
      },
      "id": "XDRw8IF9KRq2",
      "execution_count": null,
      "outputs": []
    },
    {
      "cell_type": "code",
      "source": [
        "df['bmi_group'] = categorize_feature(df, 'bmi', group_list=BMI_GROUP, bin_list=BMI_BINS)\n",
        "df[['bmi', 'bmi_group']].tail()"
      ],
      "metadata": {
        "id": "YlHmDeqoKnGn"
      },
      "id": "YlHmDeqoKnGn",
      "execution_count": null,
      "outputs": []
    },
    {
      "cell_type": "code",
      "source": [
        "df.head()"
      ],
      "metadata": {
        "id": "_g7JlZOTK53O"
      },
      "id": "_g7JlZOTK53O",
      "execution_count": null,
      "outputs": []
    },
    {
      "cell_type": "markdown",
      "source": [
        "## Smoking & BMI vs Charges\n"
      ],
      "metadata": {
        "id": "RNwQ7VPxBE_O"
      },
      "id": "RNwQ7VPxBE_O"
    },
    {
      "cell_type": "markdown",
      "source": [
        "\n",
        "The “smoker premium” = the extra cost smokers pay at each BMI level."
      ],
      "metadata": {
        "id": "f-yZ4a0kO_nT"
      },
      "id": "f-yZ4a0kO_nT"
    },
    {
      "cell_type": "markdown",
      "source": [
        "### Create Median ratios"
      ],
      "metadata": {
        "id": "rqGjFCGzPEuQ"
      },
      "id": "rqGjFCGzPEuQ"
    },
    {
      "cell_type": "code",
      "source": [
        "med = df.groupby([\"bmi_group\",\"smoker\"], observed=False)[\"charges\"].median().unstack()\n",
        "prem_abs = (med[\"yes\"] - med[\"no\"]).rename(\"smoker_premium_$\")\n",
        "prem_rel = (med[\"yes\"]/med[\"no\"]).rename(\"smoker_premium_ratio\")\n",
        "smoker_premium = pd.concat([med.round(0), prem_abs.round(0), prem_rel.round(2)], axis=1)\n",
        "sp = smoker_premium.reset_index().rename(\n",
        "    columns={smoker_premium.index.name or 'index': 'bmi_group'})\n",
        "sp"
      ],
      "metadata": {
        "id": "i3Qe3OvFhoJ_"
      },
      "id": "i3Qe3OvFhoJ_",
      "execution_count": null,
      "outputs": []
    },
    {
      "cell_type": "code",
      "source": [
        "\n",
        "med_long = sp.melt(\n",
        "    id_vars=\"bmi_group\",\n",
        "    value_vars=[\"no\",\"yes\"],\n",
        "    var_name=\"smoker\",\n",
        "    value_name=\"median_charges\"\n",
        ").dropna()\n",
        "med_long"
      ],
      "metadata": {
        "id": "JEIwHTlvLzhT"
      },
      "id": "JEIwHTlvLzhT",
      "execution_count": null,
      "outputs": []
    },
    {
      "cell_type": "markdown",
      "source": [
        "## Plot 1 -  Median Charges by BMI group and smoker"
      ],
      "metadata": {
        "id": "Wfc-HzuvMVOB"
      },
      "id": "Wfc-HzuvMVOB"
    },
    {
      "cell_type": "code",
      "source": [
        "plt.figure(figsize=(7,4))\n",
        "\n",
        "pastel_colors = {\"no\": \"#BFFCC6\", \"yes\": \"#A3C4FF\"}\n",
        "\n",
        "sns.barplot(\n",
        "    data=med_long,\n",
        "    x=\"bmi_group\",\n",
        "    y=\"median_charges\",\n",
        "    hue=\"smoker\",\n",
        "    palette=pastel_colors\n",
        ")\n",
        "\n",
        "plt.title(\"Median charges by BMI group and smoker\",fontweight=\"bold\")\n",
        "plt.xlabel(\"BMI group\")\n",
        "plt.ylabel(\"Median charges ($)\")\n",
        "plt.xticks(rotation=0)\n",
        "plt.tight_layout()\n",
        "plt.show()\n"
      ],
      "metadata": {
        "id": "jzWnJr0jMKSe"
      },
      "id": "jzWnJr0jMKSe",
      "execution_count": null,
      "outputs": []
    },
    {
      "cell_type": "markdown",
      "source": [
        "## Plot 2 - Smoker Premium in $ and ratio"
      ],
      "metadata": {
        "id": "DlNaA7HzMb-H"
      },
      "id": "DlNaA7HzMb-H"
    },
    {
      "cell_type": "code",
      "source": [
        "fig, axes = plt.subplots(1, 2, figsize=(12,4), constrained_layout=True)\n",
        "\n",
        "# Absolute $ - soft blue\n",
        "sns.barplot(\n",
        "    data=sp,\n",
        "    x=\"bmi_group\",\n",
        "    y=\"smoker_premium_$\",\n",
        "    ax=axes[0],\n",
        "    color=\"#A3C4FF\"\n",
        ")\n",
        "axes[0].axhline(0, ls=\"--\", lw=1)\n",
        "axes[0].set_title(\"Smoker premium ($) by BMI group\",fontweight=\"bold\")\n",
        "axes[0].set_xlabel(\"BMI group\")\n",
        "axes[0].set_ylabel(\"Median difference ($)\")\n",
        "axes[0].tick_params(axis=\"x\", rotation=0)\n",
        "\n",
        "# Ratio × - soft blue\n",
        "sns.pointplot(\n",
        "    data=sp,\n",
        "    x=\"bmi_group\",\n",
        "    y=\"smoker_premium_ratio\",\n",
        "    ax=axes[1],\n",
        "    markers=\"o\",\n",
        "    color=\"#A3C4FF\",\n",
        "    errorbar=None\n",
        ")\n",
        "axes[1].axhline(1, ls=\"--\", lw=1)\n",
        "axes[1].set_title(\"Smoker premium (x) by BMI group\",fontweight=\"bold\")\n",
        "axes[1].set_xlabel(\"BMI group\")\n",
        "axes[1].set_ylabel(\"Smokers / Non-smokers\")\n",
        "axes[1].tick_params(axis=\"x\", rotation=0)\n",
        "\n",
        "plt.show()"
      ],
      "metadata": {
        "id": "qN9WC_f6MS2X"
      },
      "id": "qN9WC_f6MS2X",
      "execution_count": null,
      "outputs": []
    },
    {
      "cell_type": "markdown",
      "source": [
        "Smoker premium (absolute $):\n",
        "\n",
        "- Smokers consistently pay a large extra cost.\n",
        "\n",
        "- The premium increases sharply with obesity, reaching over $30k difference.\n",
        "\n",
        "Smoker premium (relative ×):\n",
        "\n",
        "- For normal and overweight individuals, smokers pay about 3× more than non-smokers.\n",
        "\n",
        "- For obese individuals, the multiplier jumps above 5×, showing a strong combined effect of obesity and smoking.\n",
        "\n",
        "**Conclusion: Smoking greatly increases medical costs, and the effect is amplified when combined with obesity**"
      ],
      "metadata": {
        "id": "SjNpp99DeBW1"
      },
      "id": "SjNpp99DeBW1"
    },
    {
      "cell_type": "markdown",
      "source": [
        "## Plot 3 - Focus on Obese Only: Median Charges by Age"
      ],
      "metadata": {
        "id": "ZfynRBLvPXVu"
      },
      "id": "ZfynRBLvPXVu"
    },
    {
      "cell_type": "markdown",
      "source": [
        "### Feature Engineering"
      ],
      "metadata": {
        "id": "zqzZFu6PQTiw"
      },
      "id": "zqzZFu6PQTiw"
    },
    {
      "cell_type": "code",
      "source": [
        "# Let's focus now on obese only\n",
        "obese = df[df[\"bmi_group\"] == \"obese\"].copy()\n",
        "\n",
        "# Medians and plot\n",
        "med_sm = (obese.groupby([\"age_group\",\"smoker\"], observed=True)[\"charges\"]\n",
        "                .median().reset_index(name=\"median_charges\"))\n",
        "med_sm.head()\n"
      ],
      "metadata": {
        "id": "xAUVgQPt9Rzu"
      },
      "id": "xAUVgQPt9Rzu",
      "execution_count": null,
      "outputs": []
    },
    {
      "cell_type": "code",
      "source": [
        "pv = (med_sm.pivot(index=\"age_group\", columns=\"smoker\", values=\"median_charges\")\n",
        "              .reindex(AGE_GROUP))\n",
        "pv.head()\n"
      ],
      "metadata": {
        "id": "BU21uYOXDff0"
      },
      "id": "BU21uYOXDff0",
      "execution_count": null,
      "outputs": []
    },
    {
      "cell_type": "markdown",
      "source": [
        "### Plot"
      ],
      "metadata": {
        "id": "LoRKE0A0QWNu"
      },
      "id": "LoRKE0A0QWNu"
    },
    {
      "cell_type": "code",
      "source": [
        "ax = sns.pointplot(data=med_sm, x=\"age_group\", y=\"median_charges\",\n",
        "                   hue=\"smoker\", order=AGE_GROUP, dodge=True,\n",
        "                   markers=\"o\", linestyles=\"-\", errorbar=None)\n",
        "\n",
        "for xi, lab in enumerate(AGE_GROUP):\n",
        "    if lab not in pv.index:\n",
        "        continue\n",
        "    vals = pv.loc[lab, [\"no\",\"yes\"]]\n",
        "    if vals.notna().all():\n",
        "        ax.annotate(\"\", xy=(xi, vals[\"yes\"]), xytext=(xi, vals[\"no\"]),\n",
        "                    arrowprops=dict(arrowstyle=\"<->\", lw=1.4, color=\"#666\",\n",
        "                                    shrinkA=3, shrinkB=3))\n",
        "        ax.text(xi, vals.mean(), f\"+${(vals['yes']-vals['no']):,.0f}\",\n",
        "                ha=\"center\", va=\"center\", fontsize=9,\n",
        "                bbox=dict(facecolor=\"white\", edgecolor=\"none\", alpha=0.7, pad=1.5))\n",
        "\n",
        "ax.set_title(\"Obese only — Median charges by age group (smoker split)\", fontweight=\"bold\")\n",
        "ax.set_xlabel(\"age_group\"); ax.set_ylabel(\"median_charges\")\n",
        "plt.tight_layout(); plt.show()\n"
      ],
      "metadata": {
        "id": "YaXqsdTFAm3-"
      },
      "id": "YaXqsdTFAm3-",
      "execution_count": null,
      "outputs": []
    },
    {
      "cell_type": "markdown",
      "source": [
        "**Conclusion:For obese individuals, smoking adds a large and consistent cost premium of about $ 33-34K  across all age groups.**"
      ],
      "metadata": {
        "id": "QC6-SYG1FHoA"
      },
      "id": "QC6-SYG1FHoA"
    },
    {
      "cell_type": "markdown",
      "source": [
        "## Plot 4 - Smoker Premium (ratio) by Age, for different BMIs"
      ],
      "metadata": {
        "id": "cHIKHjFrPoOt"
      },
      "id": "cHIKHjFrPoOt"
    },
    {
      "cell_type": "markdown",
      "source": [
        "### Feature Engineering"
      ],
      "metadata": {
        "id": "Wjoji0VeQO7U"
      },
      "id": "Wjoji0VeQO7U"
    },
    {
      "cell_type": "code",
      "source": [
        "med2 = (df[df[\"bmi_group\"].isin(['normal', 'overweight', 'obese'])]).groupby([\"age_group\",\"smoker\",\"bmi_group\"], observed=False)[\"charges\"].median().dropna().astype(int).unstack()\n",
        "med2[\"obesity_penalty_$\"] = (med2[\"obese\"] - med2[\"normal\"])\n",
        "med2[\"obesity_penalty_ratio\"] = (med2[\"obese\"]/med2[\"normal\"]).round(2)\n",
        "med2"
      ],
      "metadata": {
        "id": "JWKlMID-h4nZ"
      },
      "id": "JWKlMID-h4nZ",
      "execution_count": null,
      "outputs": []
    },
    {
      "cell_type": "code",
      "source": [
        "# Median charges by (age_band, bmi_group, smoker)\n",
        "med = df.pivot_table(index=[\"age_group\",\"bmi_group\"],\n",
        "                    columns=\"smoker\", values=\"charges\",\n",
        "                    aggfunc=\"median\", observed=True).reindex(columns=[\"no\",\"yes\"])\n",
        "med.head()\n"
      ],
      "metadata": {
        "id": "Mn_nl79C8ukk"
      },
      "id": "Mn_nl79C8ukk",
      "execution_count": null,
      "outputs": []
    },
    {
      "cell_type": "code",
      "source": [
        "# smoker premium ratio; keep combos where both sides exist\n",
        "work = med.dropna().reset_index()\n",
        "work[\"premium_ratio\"] = work[\"yes\"] / work[\"no\"]\n",
        "work.head()\n"
      ],
      "metadata": {
        "id": "4I-f68ScEdd4"
      },
      "id": "4I-f68ScEdd4",
      "execution_count": null,
      "outputs": []
    },
    {
      "cell_type": "markdown",
      "source": [
        "### Plot"
      ],
      "metadata": {
        "id": "A9Va-qjMQRZR"
      },
      "id": "A9Va-qjMQRZR"
    },
    {
      "cell_type": "code",
      "source": [
        "# Plot\n",
        "sns.pointplot(\n",
        "    data=work, x=\"age_group\", y=\"premium_ratio\",\n",
        "    hue=\"bmi_group\", hue_order=BMI_GROUP,\n",
        "    dodge=0.3, markers=\"o\", errorbar=None\n",
        ")\n",
        "plt.axhline(1, ls=\"--\", lw=1)\n",
        "plt.title(\"Smoker premium (×) by age — Normal vs Overweight vs Obese\")\n",
        "plt.xlabel(\"Age group\"); plt.ylabel(\"Smokers / Non-smokers (median)\")\n",
        "plt.tight_layout()\n",
        "plt.show()\n",
        "\n",
        "work[[\"age_group\",\"bmi_group\",\"premium_ratio\"]].round(2).sort_values([\"bmi_group\",\"age_group\"])\n"
      ],
      "metadata": {
        "id": "KJAGT8HWFFJh"
      },
      "id": "KJAGT8HWFFJh",
      "execution_count": null,
      "outputs": []
    },
    {
      "cell_type": "markdown",
      "source": [
        "**Conclusion:**\n",
        "- The smoker premium is highest at younger ages and especially extreme for obese individuals (<35 pay over 10X more than non-smokers).\n",
        "- As age increases, the smoker premium decreases across all BMI groups, but obese smokers consistently face the largest relative cost penalty at every age."
      ],
      "metadata": {
        "id": "Wv0FwID5XAzO"
      },
      "id": "Wv0FwID5XAzO"
    },
    {
      "cell_type": "markdown",
      "source": [
        "# Plot 5 - Focus on Non Smokers"
      ],
      "metadata": {
        "id": "Me2H1ppHQDEY"
      },
      "id": "Me2H1ppHQDEY"
    },
    {
      "cell_type": "markdown",
      "source": [
        "### Feature Engineering"
      ],
      "metadata": {
        "id": "t3GXGNF0QIrV"
      },
      "id": "t3GXGNF0QIrV"
    },
    {
      "cell_type": "code",
      "source": [
        "non_smoker = df[df[\"smoker\"]==\"no\"].copy()\n",
        "non_smoker.head()"
      ],
      "metadata": {
        "id": "fMpajK7ngFAB"
      },
      "id": "fMpajK7ngFAB",
      "execution_count": null,
      "outputs": []
    },
    {
      "cell_type": "code",
      "source": [
        "med_age_bmi = (non_smoker.groupby([\"age_group\",\"bmi_group\"],observed=True)[\"charges\"]\n",
        "                 .median().reset_index())\n",
        "med_age_bmi.head()"
      ],
      "metadata": {
        "id": "zPzNDBKSOjz6"
      },
      "id": "zPzNDBKSOjz6",
      "execution_count": null,
      "outputs": []
    },
    {
      "cell_type": "markdown",
      "source": [
        "### Plot"
      ],
      "metadata": {
        "id": "yjrDyevIQM9a"
      },
      "id": "yjrDyevIQM9a"
    },
    {
      "cell_type": "code",
      "source": [
        "plt.figure(figsize=(7,4))\n",
        "sns.pointplot(data=med_age_bmi, x=\"age_group\", y=\"charges\", hue=\"bmi_group\",\n",
        "              dodge=0.3, markers=\"o\", errorbar=None)\n",
        "plt.title(\"Non-smokers — Median charges by age band and BMI\")\n",
        "plt.xlabel(\"Age Group\"); plt.ylabel(\"Median charges ($)\")\n",
        "plt.tight_layout(); plt.show()\n",
        "print(med_age_bmi.pivot(index=\"age_group\", columns=\"bmi_group\", values=\"charges\").round(0))"
      ],
      "metadata": {
        "id": "bcPpdhp0HKgr"
      },
      "id": "bcPpdhp0HKgr",
      "execution_count": null,
      "outputs": []
    },
    {
      "cell_type": "markdown",
      "source": [
        "- For non-smokers, medical charges rise steadily with age, but BMI has little effect.\n",
        "- Normal, overweight, and obese non-smokers follow almost the same trend, with only minor differences.\n",
        "\n",
        "**Conclusion: Age is the main driver of costs for non-smokers - not BMI**"
      ],
      "metadata": {
        "id": "fXhnvmpWHrqZ"
      },
      "id": "fXhnvmpWHrqZ"
    },
    {
      "cell_type": "markdown",
      "source": [
        "# Summary"
      ],
      "metadata": {
        "id": "atLxZ4hPQ_Ke"
      },
      "id": "atLxZ4hPQ_Ke"
    },
    {
      "cell_type": "markdown",
      "source": [
        "\n",
        "\n",
        "1.   Smoking greatly increases medical costs, and the effect is amplified when combined with obesity\n",
        "2.   For obese individuals, smoking adds a large and consistent cost premium of about $ 33-34K across all age groups.\n",
        "3.   The smoker premium is highest at younger ages and especially extreme for obese individuals (<35 pay over 10X more than non-smokers).\n",
        "4.   Obesity by itself is a modest cost factor, much smaller than the effect of smoking.However,when combined with smoking,it becomes an aggravating factor\n",
        "5. Age is the main driver of costs for non-smokers - not BMI"
      ],
      "metadata": {
        "id": "5WgYnixjjxAQ"
      },
      "id": "5WgYnixjjxAQ"
    },
    {
      "cell_type": "code",
      "source": [],
      "metadata": {
        "id": "dMqJZUAoH-vt"
      },
      "id": "dMqJZUAoH-vt",
      "execution_count": null,
      "outputs": []
    }
  ],
  "metadata": {
    "kernelspec": {
      "display_name": "base",
      "language": "python",
      "name": "python3"
    },
    "language_info": {
      "codemirror_mode": {
        "name": "ipython",
        "version": 3
      },
      "file_extension": ".py",
      "mimetype": "text/x-python",
      "name": "python",
      "nbconvert_exporter": "python",
      "pygments_lexer": "ipython3",
      "version": "3.13.5"
    },
    "colab": {
      "provenance": [],
      "collapsed_sections": [
        "FtjmF-DqI4nW"
      ],
      "toc_visible": true
    }
  },
  "nbformat": 4,
  "nbformat_minor": 5
}