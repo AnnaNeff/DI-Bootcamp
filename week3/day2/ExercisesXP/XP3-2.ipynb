{
 "cells": [
  {
   "cell_type": "markdown",
   "id": "5888d8c1",
   "metadata": {},
   "source": [
    "Exercise 1\n",
    "Company financial reports in Excel — Structured: rows and columns with fixed fields.  \n",
    "Photos on a social media platform — Unstructured: images do not follow a table schema.  \n",
    "News articles on a website — Unstructured: free text and HTML with variable length.  \n",
    "Inventory data in a relational database — Structured: defined schema and SQL queries.  \n",
    "Recorded interviews (audio) — Unstructured: sound files without fixed fields."
   ]
  },
  {
   "cell_type": "markdown",
   "id": "df846045",
   "metadata": {},
   "source": [
    "Exercise 2\n",
    "1) Travel blog posts\n",
    "\n",
    "Steps\n",
    "\n",
    "Clean the text (remove HTML and emojis).\n",
    "\n",
    "Detect language; split into sentences.\n",
    "\n",
    "Extract named places (country, city, landmarks).\n",
    "\n",
    "Detect sentiment (positive / negative / neutral).\n",
    "\n",
    "Detect topics or keywords.\n",
    "\n",
    "Add engagement: number of likes and comments.\n",
    "\n",
    "Add reach: views from followers and from non-followers.\n",
    "\n",
    "Why this approach\n",
    "It helps us categorize blog posts and analyze which posts are more popular and interesting. We can use it for content planning and ad planning.\n",
    "\n",
    "\n",
    "2) Customer service call recordings\n",
    "\n",
    "Steps\n",
    "\n",
    "Use Speech-to-Text (ASR) to get a transcript.\n",
    "\n",
    "Separate speakers (agent vs customer).\n",
    "\n",
    "Extract entities: order_id, product, account.\n",
    "\n",
    "Classify issue type and result (resolved or not).\n",
    "\n",
    "Measure call duration and basic sentiment.\n",
    "\n",
    "Detect the agent (agent_id, agent_name, team).\n",
    "\n",
    "User rate\n",
    "\n",
    "Why this approach\n",
    "It lets us determine which agents are more effective, optimize staffing, and measure customer satisfaction to improve service.\n",
    "\n",
    "\n",
    "3) Handwritten brainstorming notes\n",
    "\n",
    "Steps\n",
    "\n",
    "Scan or photograph the notes.\n",
    "\n",
    "Apply handwriting OCR.\n",
    "\n",
    "Split text into separate items.\n",
    "\n",
    "Detect owner, priority, and due date (if present).\n",
    "\n",
    "Keep the original image link for reference.\n",
    "\n",
    "Why this approach\n",
    "It converts messy notes into clear, trackable tasks. We can categorize ideas by priority and track implementation results.\n",
    "\n",
    "\n",
    "4) Cooking video tutorial\n",
    "\n",
    "Steps\n",
    "\n",
    "Get the speech transcript (ASR).\n",
    "\n",
    "Split the transcript into time-based steps.\n",
    "\n",
    "Extract actions (cut, mix, bake) and ingredients.\n",
    "\n",
    "Add estimated time per step; list tools if visible.\n",
    "\n",
    "Tag cuisine type (Mediterranean, Chinese), meal type (breakfast, dinner), and dietary preferences (vegan, gluten-free).\n",
    "\n",
    "Store the link to the time segment.\n",
    "\n",
    "Why this approach\n",
    "It helps categorize and filter videos for users (by ingredients, dietary needs, or required equipment). As in case with travel blog it helps us categorize videos and analyze which one are more popular and interesting. We also can use it for content planning and ad planning.\n"
   ]
  },
  {
   "cell_type": "code",
   "execution_count": 18,
   "id": "9f3a60a9",
   "metadata": {},
   "outputs": [],
   "source": [
    "import pandas as pd"
   ]
  },
  {
   "cell_type": "code",
   "execution_count": 19,
   "id": "b45bd438",
   "metadata": {},
   "outputs": [
    {
     "name": "stdout",
     "output_type": "stream",
     "text": [
      "   PassengerId  Survived  Pclass  \\\n",
      "0            1         0       3   \n",
      "1            2         1       1   \n",
      "2            3         1       3   \n",
      "3            4         1       1   \n",
      "4            5         0       3   \n",
      "\n",
      "                                                Name     Sex   Age  SibSp  \\\n",
      "0                            Braund, Mr. Owen Harris    male  22.0      1   \n",
      "1  Cumings, Mrs. John Bradley (Florence Briggs Th...  female  38.0      1   \n",
      "2                             Heikkinen, Miss. Laina  female  26.0      0   \n",
      "3       Futrelle, Mrs. Jacques Heath (Lily May Peel)  female  35.0      1   \n",
      "4                           Allen, Mr. William Henry    male  35.0      0   \n",
      "\n",
      "   Parch            Ticket     Fare Cabin Embarked  \n",
      "0      0         A/5 21171   7.2500   NaN        S  \n",
      "1      0          PC 17599  71.2833   C85        C  \n",
      "2      0  STON/O2. 3101282   7.9250   NaN        S  \n",
      "3      0            113803  53.1000  C123        S  \n",
      "4      0            373450   8.0500   NaN        S  \n"
     ]
    }
   ],
   "source": [
    "train_df = pd.read_csv(\"train.csv\")\n",
    "print(train_df.head())"
   ]
  },
  {
   "cell_type": "code",
   "execution_count": 20,
   "id": "f67e5e4d",
   "metadata": {},
   "outputs": [
    {
     "name": "stdout",
     "output_type": "stream",
     "text": [
      "   Id  SepalLengthCm  SepalWidthCm  PetalLengthCm  PetalWidthCm      Species\n",
      "0   1            5.1           3.5            1.4           0.2  Iris-setosa\n",
      "1   2            4.9           3.0            1.4           0.2  Iris-setosa\n",
      "2   3            4.7           3.2            1.3           0.2  Iris-setosa\n",
      "3   4            4.6           3.1            1.5           0.2  Iris-setosa\n",
      "4   5            5.0           3.6            1.4           0.2  Iris-setosa\n"
     ]
    }
   ],
   "source": [
    "iris_data = pd.read_csv('iris.csv')\n",
    "print(iris_data.head())"
   ]
  },
  {
   "cell_type": "code",
   "execution_count": 3,
   "id": "9d1cd662",
   "metadata": {},
   "outputs": [
    {
     "name": "stdout",
     "output_type": "stream",
     "text": [
      "   SepalLengthCm  SepalWidthCm      Species\n",
      "0            5.1           3.5  Iris-setosa\n",
      "1            4.9           3.0  Iris-setosa\n",
      "2            4.7           3.2  Iris-setosa\n",
      "3            4.6           3.1  Iris-setosa\n",
      "4            5.0           3.6  Iris-setosa\n"
     ]
    }
   ],
   "source": [
    "shorter_iris = iris_data[['SepalLengthCm', 'SepalWidthCm', 'Species']].head()\n",
    "print(shorter_iris.head())"
   ]
  },
  {
   "cell_type": "code",
   "execution_count": 8,
   "id": "8d5f73fa",
   "metadata": {},
   "outputs": [],
   "source": [
    "shorter_iris.to_excel('shorter_iris_excel.xlsx')"
   ]
  },
  {
   "cell_type": "code",
   "execution_count": 10,
   "id": "ae4d9934",
   "metadata": {},
   "outputs": [],
   "source": [
    "shorter_iris.to_json('shorter_iris_json.json')"
   ]
  },
  {
   "cell_type": "code",
   "execution_count": 17,
   "id": "3dbc91b1",
   "metadata": {},
   "outputs": [
    {
     "name": "stdout",
     "output_type": "stream",
     "text": [
      "   userId  id                                              title  \\\n",
      "0       1   1  sunt aut facere repellat provident occaecati e...   \n",
      "1       1   2                                       qui est esse   \n",
      "2       1   3  ea molestias quasi exercitationem repellat qui...   \n",
      "3       1   4                               eum et est occaecati   \n",
      "4       1   5                                 nesciunt quas odio   \n",
      "\n",
      "                                                body  \n",
      "0  quia et suscipit\\nsuscipit recusandae consequu...  \n",
      "1  est rerum tempore vitae\\nsequi sint nihil repr...  \n",
      "2  et iusto sed quo iure\\nvoluptatem occaecati om...  \n",
      "3  ullam et saepe reiciendis voluptatem adipisci\\...  \n",
      "4  repudiandae veniam quaerat sunt sed\\nalias aut...  \n"
     ]
    }
   ],
   "source": [
    "df_posts = pd.read_json('posts.json')\n",
    "print(df_posts.head())"
   ]
  }
 ],
 "metadata": {
  "kernelspec": {
   "display_name": "base",
   "language": "python",
   "name": "python3"
  },
  "language_info": {
   "codemirror_mode": {
    "name": "ipython",
    "version": 3
   },
   "file_extension": ".py",
   "mimetype": "text/x-python",
   "name": "python",
   "nbconvert_exporter": "python",
   "pygments_lexer": "ipython3",
   "version": "3.12.7"
  }
 },
 "nbformat": 4,
 "nbformat_minor": 5
}
