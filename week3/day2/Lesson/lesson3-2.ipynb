{
 "cells": [
  {
   "cell_type": "markdown",
   "id": "8be6fa35",
   "metadata": {},
   "source": [
    "Exercise 1\n",
    "Company financial reports in Excel — Structured: rows and columns with fixed fields.  \n",
    "Photos on a social media platform — Unstructured: images do not follow a table schema.  \n",
    "News articles on a website — Unstructured: free text and HTML with variable length.  \n",
    "Inventory data in a relational database — Structured: defined schema and SQL queries.  \n",
    "Recorded interviews (audio) — Unstructured: sound files without fixed fields."
   ]
  },
  {
   "cell_type": "markdown",
   "id": "f7699325",
   "metadata": {},
   "source": [
    "Exercise 2\n",
    "1) Travel blog posts\n",
    "\n",
    "Steps\n",
    "\n",
    "Clean the text (remove HTML and emojis).\n",
    "\n",
    "Detect language; split into sentences.\n",
    "\n",
    "Extract named places (country, city, landmarks).\n",
    "\n",
    "Detect sentiment (positive / negative / neutral).\n",
    "\n",
    "Detect topics or keywords.\n",
    "\n",
    "Add engagement: number of likes and comments.\n",
    "\n",
    "Add reach: views from followers and from non-followers.\n",
    "\n",
    "Why this approach\n",
    "It helps us categorize blog posts and analyze which posts are more popular and interesting. We can use it for content planning and ad planning.\n",
    "\n",
    "\n",
    "2) Customer service call recordings\n",
    "\n",
    "Steps\n",
    "\n",
    "Use Speech-to-Text (ASR) to get a transcript.\n",
    "\n",
    "Separate speakers (agent vs customer).\n",
    "\n",
    "Extract entities: order_id, product, account.\n",
    "\n",
    "Classify issue type and result (resolved or not).\n",
    "\n",
    "Measure call duration and basic sentiment.\n",
    "\n",
    "Detect the agent (agent_id, agent_name, team).\n",
    "\n",
    "User rate\n",
    "\n",
    "Why this approach\n",
    "It lets us determine which agents are more effective, optimize staffing, and measure customer satisfaction to improve service.\n",
    "\n",
    "\n",
    "3) Handwritten brainstorming notes\n",
    "\n",
    "Steps\n",
    "\n",
    "Scan or photograph the notes.\n",
    "\n",
    "Apply handwriting OCR.\n",
    "\n",
    "Split text into separate items.\n",
    "\n",
    "Detect owner, priority, and due date (if present).\n",
    "\n",
    "Keep the original image link for reference.\n",
    "\n",
    "Why this approach\n",
    "It converts messy notes into clear, trackable tasks. We can categorize ideas by priority and track implementation results.\n",
    "\n",
    "\n",
    "4) Cooking video tutorial\n",
    "\n",
    "Steps\n",
    "\n",
    "Get the speech transcript (ASR).\n",
    "\n",
    "Split the transcript into time-based steps.\n",
    "\n",
    "Extract actions (cut, mix, bake) and ingredients.\n",
    "\n",
    "Add estimated time per step; list tools if visible.\n",
    "\n",
    "Tag cuisine type (Mediterranean, Chinese), meal type (breakfast, dinner), and dietary preferences (vegan, gluten-free).\n",
    "\n",
    "Store the link to the time segment.\n",
    "\n",
    "Why this approach\n",
    "It helps categorize and filter videos for users (by ingredients, dietary needs, or required equipment). As in case with travel blog it helps us categorize videos and analyze which one are more popular and interesting. We also can use it for content planning and ad planning.\n"
   ]
  },
  {
   "cell_type": "code",
   "execution_count": 2,
   "id": "6aed0bc7",
   "metadata": {},
   "outputs": [],
   "source": [
    "import pandas as pd"
   ]
  },
  {
   "cell_type": "code",
   "execution_count": 3,
   "id": "3db778b7",
   "metadata": {},
   "outputs": [
    {
     "name": "stdout",
     "output_type": "stream",
     "text": [
      "   Id  SepalLengthCm  SepalWidthCm  PetalLengthCm  PetalWidthCm      Species\n",
      "0   1            5.1           3.5            1.4           0.2  Iris-setosa\n",
      "1   2            4.9           3.0            1.4           0.2  Iris-setosa\n",
      "2   3            4.7           3.2            1.3           0.2  Iris-setosa\n",
      "3   4            4.6           3.1            1.5           0.2  Iris-setosa\n",
      "4   5            5.0           3.6            1.4           0.2  Iris-setosa\n"
     ]
    }
   ],
   "source": [
    "iris = pd.read_csv('/Users/annanefedova/Desktop/Учеба /Developers Institute/DI-Bootcamp/week3/day1/XP3-1/Iris.csv')\n",
    "print(iris.head())"
   ]
  },
  {
   "cell_type": "code",
   "execution_count": null,
   "id": "f31637ae",
   "metadata": {},
   "outputs": [],
   "source": [
    "l = [1,2,3,4,5,6,7,8]\n",
    "l[4]"
   ]
  },
  {
   "cell_type": "code",
   "execution_count": 4,
   "id": "c8925c46",
   "metadata": {},
   "outputs": [
    {
     "data": {
      "text/html": [
       "<div>\n",
       "<style scoped>\n",
       "    .dataframe tbody tr th:only-of-type {\n",
       "        vertical-align: middle;\n",
       "    }\n",
       "\n",
       "    .dataframe tbody tr th {\n",
       "        vertical-align: top;\n",
       "    }\n",
       "\n",
       "    .dataframe thead th {\n",
       "        text-align: right;\n",
       "    }\n",
       "</style>\n",
       "<table border=\"1\" class=\"dataframe\">\n",
       "  <thead>\n",
       "    <tr style=\"text-align: right;\">\n",
       "      <th></th>\n",
       "      <th>Id</th>\n",
       "      <th>SepalLengthCm</th>\n",
       "      <th>SepalWidthCm</th>\n",
       "      <th>PetalLengthCm</th>\n",
       "      <th>PetalWidthCm</th>\n",
       "      <th>Species</th>\n",
       "    </tr>\n",
       "  </thead>\n",
       "  <tbody>\n",
       "    <tr>\n",
       "      <th>2</th>\n",
       "      <td>3</td>\n",
       "      <td>4.7</td>\n",
       "      <td>3.2</td>\n",
       "      <td>1.3</td>\n",
       "      <td>0.2</td>\n",
       "      <td>Iris-setosa</td>\n",
       "    </tr>\n",
       "    <tr>\n",
       "      <th>3</th>\n",
       "      <td>4</td>\n",
       "      <td>4.6</td>\n",
       "      <td>3.1</td>\n",
       "      <td>1.5</td>\n",
       "      <td>0.2</td>\n",
       "      <td>Iris-setosa</td>\n",
       "    </tr>\n",
       "    <tr>\n",
       "      <th>4</th>\n",
       "      <td>5</td>\n",
       "      <td>5.0</td>\n",
       "      <td>3.6</td>\n",
       "      <td>1.4</td>\n",
       "      <td>0.2</td>\n",
       "      <td>Iris-setosa</td>\n",
       "    </tr>\n",
       "  </tbody>\n",
       "</table>\n",
       "</div>"
      ],
      "text/plain": [
       "   Id  SepalLengthCm  SepalWidthCm  PetalLengthCm  PetalWidthCm      Species\n",
       "2   3            4.7           3.2            1.3           0.2  Iris-setosa\n",
       "3   4            4.6           3.1            1.5           0.2  Iris-setosa\n",
       "4   5            5.0           3.6            1.4           0.2  Iris-setosa"
      ]
     },
     "execution_count": 4,
     "metadata": {},
     "output_type": "execute_result"
    }
   ],
   "source": [
    "iris.iloc[2:5]"
   ]
  },
  {
   "cell_type": "code",
   "execution_count": 8,
   "id": "690709c9",
   "metadata": {},
   "outputs": [
    {
     "name": "stdout",
     "output_type": "stream",
     "text": [
      "100\n"
     ]
    }
   ],
   "source": [
    "shorter_iris = iris.iloc[:100]\n",
    "print(len(shorter_iris))"
   ]
  },
  {
   "cell_type": "code",
   "execution_count": 18,
   "id": "8ea9e717",
   "metadata": {},
   "outputs": [],
   "source": [
    "shorter_iris.to_csv('shorter_iris_csv', index = False)"
   ]
  },
  {
   "cell_type": "code",
   "execution_count": 19,
   "id": "c1c944db",
   "metadata": {},
   "outputs": [
    {
     "name": "stdout",
     "output_type": "stream",
     "text": [
      "   Id  SepalLengthCm  SepalWidthCm  PetalLengthCm  PetalWidthCm      Species\n",
      "0   1            5.1           3.5            1.4           0.2  Iris-setosa\n",
      "1   2            4.9           3.0            1.4           0.2  Iris-setosa\n",
      "2   3            4.7           3.2            1.3           0.2  Iris-setosa\n",
      "3   4            4.6           3.1            1.5           0.2  Iris-setosa\n",
      "4   5            5.0           3.6            1.4           0.2  Iris-setosa\n"
     ]
    }
   ],
   "source": [
    "test = pd.read_csv('shorter_iris_csv')\n",
    "print(test.head())"
   ]
  },
  {
   "cell_type": "code",
   "execution_count": null,
   "id": "eaa12e6c",
   "metadata": {},
   "outputs": [],
   "source": []
  }
 ],
 "metadata": {
  "kernelspec": {
   "display_name": "base",
   "language": "python",
   "name": "python3"
  },
  "language_info": {
   "codemirror_mode": {
    "name": "ipython",
    "version": 3
   },
   "file_extension": ".py",
   "mimetype": "text/x-python",
   "name": "python",
   "nbconvert_exporter": "python",
   "pygments_lexer": "ipython3",
   "version": "3.12.7"
  }
 },
 "nbformat": 4,
 "nbformat_minor": 5
}
