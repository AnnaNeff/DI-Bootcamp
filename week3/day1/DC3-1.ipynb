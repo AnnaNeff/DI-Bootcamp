{
 "cells": [
  {
   "cell_type": "markdown",
   "id": "93a1038c",
   "metadata": {},
   "source": [
    "Netflix and Data Analysis\n",
    "The Story\n",
    "\n",
    "Netflix is a global streaming company. It uses data analysis every day to make decisions about movies, series, and user experience. One important case was how Netflix recommended content to users.\n",
    "\n",
    "The Role of Data Analysis\n",
    "\n",
    "What data was analyzed?\n",
    "Netflix collected data about what users watch, when they pause, what they re-watch, and the ratings they give.\n",
    "\n",
    "What methods were used?\n",
    "They used statistical models and machine learning algorithms to find patterns in user behavior.\n",
    "\n",
    "What was the result?\n",
    "The recommendation system suggests movies and series that each user is most likely to enjoy.\n",
    "\n",
    "The Impact\n",
    "\n",
    "Without data analysis, Netflix would suggest random content, and users might leave the platform.\n",
    "\n",
    "With strong data analysis, Netflix keeps people watching longer, improves customer satisfaction, and increases profits.\n",
    "\n",
    "It also helps Netflix decide what new shows to create, based on trends in the data.\n",
    "\n",
    "Conclusion\n",
    "\n",
    "This story shows that data analysis is critical for modern companies. It transforms raw numbers into business strategies. For Netflix, it means higher customer engagement, better investments in content, and global success."
   ]
  }
 ],
 "metadata": {
  "language_info": {
   "name": "python"
  }
 },
 "nbformat": 4,
 "nbformat_minor": 5
}
