{
  "cells": [
    {
      "cell_type": "code",
      "execution_count": 9,
      "id": "5eccb5f0-ec9a-40c2-8c70-99ba2ce00440",
      "metadata": {
        "colab": {
          "base_uri": "https://localhost:8080/"
        },
        "id": "5eccb5f0-ec9a-40c2-8c70-99ba2ce00440",
        "outputId": "76183276-ddff-4078-e022-ad456253eac4"
      },
      "outputs": [
        {
          "output_type": "stream",
          "name": "stdout",
          "text": [
            "   Id  SepalLengthCm  SepalWidthCm  PetalLengthCm  PetalWidthCm      Species\n",
            "0   1            5.1           3.5            1.4           0.2  Iris-setosa\n",
            "1   2            4.9           3.0            1.4           0.2  Iris-setosa\n",
            "2   3            4.7           3.2            1.3           0.2  Iris-setosa\n",
            "3   4            4.6           3.1            1.5           0.2  Iris-setosa\n",
            "4   5            5.0           3.6            1.4           0.2  Iris-setosa\n"
          ]
        }
      ],
      "source": [
        "import pandas as pd\n",
        "\n",
        "url = \"https://raw.githubusercontent.com/AnnaNeff/DI-Bootcamp/main/week3/day1/XP3-1/Iris.csv\"\n",
        "iris = pd.read_csv(url)\n",
        "print(iris.head())"
      ]
    },
    {
      "cell_type": "code",
      "execution_count": 10,
      "id": "f3d22e76-3a56-4f60-bac3-0bddee4cd15f",
      "metadata": {
        "colab": {
          "base_uri": "https://localhost:8080/"
        },
        "id": "f3d22e76-3a56-4f60-bac3-0bddee4cd15f",
        "outputId": "9b82f758-822f-4b81-c769-48aae382a73b"
      },
      "outputs": [
        {
          "output_type": "stream",
          "name": "stdout",
          "text": [
            "<class 'pandas.core.frame.DataFrame'>\n",
            "RangeIndex: 150 entries, 0 to 149\n",
            "Data columns (total 6 columns):\n",
            " #   Column         Non-Null Count  Dtype  \n",
            "---  ------         --------------  -----  \n",
            " 0   Id             150 non-null    int64  \n",
            " 1   SepalLengthCm  150 non-null    float64\n",
            " 2   SepalWidthCm   150 non-null    float64\n",
            " 3   PetalLengthCm  150 non-null    float64\n",
            " 4   PetalWidthCm   150 non-null    float64\n",
            " 5   Species        150 non-null    object \n",
            "dtypes: float64(4), int64(1), object(1)\n",
            "memory usage: 7.2+ KB\n",
            "None\n"
          ]
        }
      ],
      "source": [
        "print(iris.info())"
      ]
    },
    {
      "cell_type": "code",
      "execution_count": null,
      "id": "d305ba7e-2ed9-4327-8ab8-bf5290d7c4bc",
      "metadata": {
        "id": "d305ba7e-2ed9-4327-8ab8-bf5290d7c4bc"
      },
      "outputs": [],
      "source": [
        "#The Iris dataset contains 150 rows and 6 columns:\n",
        "\n",
        "#Id - Qualitative (identifier, not used for analysis).\n",
        "#SepalLengthCm - Quantitative (numeric measurement of sepal length).\n",
        "#SepalWidthCm - Quantitative (numeric measurement of sepal width).\n",
        "#PetalLengthCm - Quantitative (numeric measurement of petal length).\n",
        "#PetalWidthCm - Quantitative (numeric measurement of petal width).\n",
        "#Species - Qualitative (categorical, species of the flower).\n",
        "\n",
        "#Summary:\n",
        "#Quantitative columns describe the flower measurements (used for analysis).\n",
        "#Species is categorical because it represents classes.\n",
        "#Id is only an identifier and has no analytical meaning."
      ]
    },
    {
      "cell_type": "code",
      "source": [
        "print(f'SepalLengthCm mean: {iris['SepalLengthCm'].mean().round(2)}')\n",
        "print(f'SepalLengthCm median: {iris['SepalLengthCm'].median()}')\n",
        "print(f'SepalLengthCm mode: {iris['SepalLengthCm'].mode()}')"
      ],
      "metadata": {
        "colab": {
          "base_uri": "https://localhost:8080/"
        },
        "id": "wkTRO5rOoSyd",
        "outputId": "7923bed4-6851-4981-db50-54ec1362d5eb"
      },
      "id": "wkTRO5rOoSyd",
      "execution_count": 20,
      "outputs": [
        {
          "output_type": "stream",
          "name": "stdout",
          "text": [
            "SepalLengthCm mean: 5.84\n",
            "SepalLengthCm median: 5.8\n",
            "SepalLengthCm mode: 0    5.0\n",
            "Name: SepalLengthCm, dtype: float64\n"
          ]
        }
      ]
    },
    {
      "cell_type": "code",
      "source": [
        "import matplotlib.pyplot as plt\n",
        "plt.bar(iris['Species'], iris['SepalWidthCm'].mode())\n",
        "plt.show()"
      ],
      "metadata": {
        "colab": {
          "base_uri": "https://localhost:8080/",
          "height": 430
        },
        "id": "C-kvOca3k6m0",
        "outputId": "8f638c66-6739-48b6-9a8c-4b0e9d87484f"
      },
      "id": "C-kvOca3k6m0",
      "execution_count": 27,
      "outputs": [
        {
          "output_type": "display_data",
          "data": {
            "text/plain": [
              "<Figure size 640x480 with 1 Axes>"
            ],
            "image/png": "[encoded data removed]"
          },
          "metadata": {}
        }
      ]
    }
  ],
  "metadata": {
    "kernelspec": {
      "display_name": "Python [conda env:base] *",
      "language": "python",
      "name": "conda-base-py"
    },
    "language_info": {
      "codemirror_mode": {
        "name": "ipython",
        "version": 3
      },
      "file_extension": ".py",
      "mimetype": "text/x-python",
      "name": "python",
      "nbconvert_exporter": "python",
      "pygments_lexer": "ipython3",
      "version": "3.12.7"
    },
    "colab": {
      "provenance": []
    }
  },
  "nbformat": 4,
  "nbformat_minor": 5
}