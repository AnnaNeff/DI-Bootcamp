{
 "cells": [
  {
   "cell_type": "markdown",
   "id": "caa00515",
   "metadata": {},
   "source": [
    "Data analysis is the process of turning raw data into useful information. We collect data, clean it, explore it with simple statistics and charts, and then explain what it means. The goal is to answer a question or support a decision. Common tools are spreadsheets, SQL, and Python with Pandas and Matplotlib.\n",
    "\n",
    "Modern life produces a lot of data: sales, clicks, health records, sensors, and more. Data analysis helps people and companies make decisions based on facts, not guesses. It reduces risk, finds trends, and shows what works and what does not.\n",
    "\n",
    "Three areas where it is used:\n",
    "Business & Marketing: Understand customer behavior, measure campaigns, plan inventory, and set prices.\n",
    "Health & Public Policy: Track disease trends, plan hospital resources, and evaluate social programs.\n",
    "Finance & FinTech: Detect fraud, score credit risk, and analyze investment performance."
   ]
  },
  {
   "cell_type": "code",
   "execution_count": 1,
   "id": "4db9e510-5173-42c0-a436-4a584ba55483",
   "metadata": {},
   "outputs": [
    {
     "name": "stdout",
     "output_type": "stream",
     "text": [
      "   index  Year  Period  Avg hrs per day sleeping  Standard Error Type of Days  \\\n",
      "0      0  2003  Annual                      8.57           0.018     All days   \n",
      "1      1  2004  Annual                      8.55           0.026     All days   \n",
      "2      2  2005  Annual                      8.62           0.023     All days   \n",
      "3      3  2006  Annual                      8.63           0.024     All days   \n",
      "4      4  2007  Annual                      8.57           0.024     All days   \n",
      "\n",
      "           Age Group  Activity   Sex  \n",
      "0  15 years and over  Sleeping  Both  \n",
      "1  15 years and over  Sleeping  Both  \n",
      "2  15 years and over  Sleeping  Both  \n",
      "3  15 years and over  Sleeping  Both  \n",
      "4  15 years and over  Sleeping  Both  \n"
     ]
    }
   ],
   "source": [
    "import pandas as pd\n",
    "\n",
    "tass = pd.read_csv('/Users/annanefedova/Desktop/Учеба /Developers Institute/DI-Bootcamp/week3/day1/XP3-1/Time Americans Spend Sleeping.csv')\n",
    "print(tass.head())"
   ]
  },
  {
   "cell_type": "markdown",
   "id": "ddd0aab7",
   "metadata": {},
   "source": [
    "index - quantitative\n",
    "Year - quantitative\n",
    "Period - qualitative\n",
    "Avg hrs per day sleeping - quantitative\n",
    "Standard Error - quantitative\n",
    "Type of Days - qualitative\n",
    "Age - quantitative\n",
    "Group - qualitative\n",
    "Activity - qualitative\n",
    "Sex - qualitative"
   ]
  },
  {
   "cell_type": "code",
   "execution_count": 4,
   "id": "1413005a-3322-41e8-88e7-ba9361e71b78",
   "metadata": {},
   "outputs": [
    {
     "name": "stdout",
     "output_type": "stream",
     "text": [
      "            index         Year  Avg hrs per day sleeping  Standard Error\n",
      "count  945.000000   945.000000                945.000000      945.000000\n",
      "mean   472.000000  2010.000000                  8.806868        0.086958\n",
      "std    272.942302     4.322782                  0.545001        0.034631\n",
      "min      0.000000  2003.000000                  7.720000        0.018000\n",
      "25%    236.000000  2006.000000                  8.360000        0.063000\n",
      "50%    472.000000  2010.000000                  8.810000        0.084000\n",
      "75%    708.000000  2014.000000                  9.190000        0.106000\n",
      "max    944.000000  2017.000000                 10.650000        0.228000\n"
     ]
    }
   ],
   "source": [
    "print(tass.describe())"
   ]
  },
  {
   "cell_type": "code",
   "execution_count": 8,
   "id": "1998a2be-e500-41e0-b8c0-38637e0da5d9",
   "metadata": {},
   "outputs": [
    {
     "name": "stdout",
     "output_type": "stream",
     "text": [
      "   index       Entity Code  Year Schizophrenia (%) Bipolar disorder (%)  \\\n",
      "0      0  Afghanistan  AFG  1990           0.16056             0.697779   \n",
      "1      1  Afghanistan  AFG  1991          0.160312             0.697961   \n",
      "2      2  Afghanistan  AFG  1992          0.160135             0.698107   \n",
      "3      3  Afghanistan  AFG  1993          0.160037             0.698257   \n",
      "4      4  Afghanistan  AFG  1994          0.160022             0.698469   \n",
      "\n",
      "  Eating disorders (%)  Anxiety disorders (%)  Drug use disorders (%)  \\\n",
      "0             0.101855               4.828830                1.677082   \n",
      "1             0.099313               4.829740                1.684746   \n",
      "2             0.096692               4.831108                1.694334   \n",
      "3             0.094336               4.830864                1.705320   \n",
      "4             0.092439               4.829423                1.716069   \n",
      "\n",
      "   Depression (%)  Alcohol use disorders (%)  \n",
      "0        4.071831                   0.672404  \n",
      "1        4.079531                   0.671768  \n",
      "2        4.088358                   0.670644  \n",
      "3        4.096190                   0.669738  \n",
      "4        4.099582                   0.669260  \n"
     ]
    },
    {
     "name": "stderr",
     "output_type": "stream",
     "text": [
      "/var/folders/s1/j1lr__816ks_mg4_h_l5z27h0000gn/T/ipykernel_47402/3129511869.py:1: DtypeWarning: Columns (5,6) have mixed types. Specify dtype option on import or set low_memory=False.\n",
      "  mh = pd.read_csv('/Users/annanefedova/Desktop/Учеба /Developers Institute/DI-Bootcamp/week3/day1/XP3-1/Mental health Depression disorder Data.csv')\n"
     ]
    }
   ],
   "source": [
    "mh = pd.read_csv('/Users/annanefedova/Desktop/Учеба /Developers Institute/DI-Bootcamp/week3/day1/XP3-1/Mental health Depression disorder Data.csv')\n",
    "print(mh.head())"
   ]
  },
  {
   "cell_type": "markdown",
   "id": "e2dfd5b7",
   "metadata": {},
   "source": [
    "index - quantitative\n",
    "Entity - qualitative\n",
    "Code - qualitative\n",
    "Year - quantitative\n",
    "Schizophrenia (%) - quantitative\n",
    "Bipolar disorder (%) - quantitative\n",
    "Eating disorders (%) - quantitative\n",
    "Anxiety disorders (%) - quantitative\n",
    "Drug use disorders (%) - quantitative\n",
    "Depression (%) - quantitative\n",
    "Alcohol use disorders (%)  - quantitative "
   ]
  },
  {
   "cell_type": "code",
   "execution_count": 10,
   "id": "479c1363-bfe2-47a9-aa75-403d7b32f7fc",
   "metadata": {},
   "outputs": [
    {
     "name": "stdout",
     "output_type": "stream",
     "text": [
      "               index  Anxiety disorders (%)  Drug use disorders (%)  \\\n",
      "count  108553.000000            6468.000000             6468.000000   \n",
      "mean    54276.000000               3.989921                0.862278   \n",
      "std     31336.696223               1.167526                0.460679   \n",
      "min         0.000000               2.023393                0.383650   \n",
      "25%     27138.000000               3.188824                0.535064   \n",
      "50%     54276.000000               3.554373                0.726430   \n",
      "75%     81414.000000               4.682163                0.940157   \n",
      "max    108552.000000               8.967330                3.452476   \n",
      "\n",
      "       Depression (%)  Alcohol use disorders (%)  \n",
      "count     6468.000000                6468.000000  \n",
      "mean         3.497654                   1.585821  \n",
      "std          0.655859                   0.860283  \n",
      "min          2.139903                   0.446940  \n",
      "25%          3.005529                   0.993685  \n",
      "50%          3.499606                   1.479936  \n",
      "75%          3.912381                   1.867834  \n",
      "max          6.602754                   5.474668  \n"
     ]
    }
   ],
   "source": [
    "print(mh.describe())"
   ]
  },
  {
   "cell_type": "code",
   "execution_count": 15,
   "id": "b5b926f9-680e-48e6-a05c-3d3d413a48c0",
   "metadata": {},
   "outputs": [
    {
     "name": "stdout",
     "output_type": "stream",
     "text": [
      "   Gender    Age   Debt  Married  BankCustomer     Industry Ethnicity  \\\n",
      "0       1  30.83  0.000        1             1  Industrials     White   \n",
      "1       0  58.67  4.460        1             1    Materials     Black   \n",
      "2       0  24.50  0.500        1             1    Materials     Black   \n",
      "3       1  27.83  1.540        1             1  Industrials     White   \n",
      "4       1  20.17  5.625        1             1  Industrials     White   \n",
      "\n",
      "   YearsEmployed  PriorDefault  Employed  CreditScore  DriversLicense  \\\n",
      "0           1.25             1         1            1               0   \n",
      "1           3.04             1         1            6               0   \n",
      "2           1.50             1         0            0               0   \n",
      "3           3.75             1         1            5               1   \n",
      "4           1.71             1         0            0               0   \n",
      "\n",
      "        Citizen  ZipCode  Income  Approved  \n",
      "0       ByBirth      202       0         1  \n",
      "1       ByBirth       43     560         1  \n",
      "2       ByBirth      280     824         1  \n",
      "3       ByBirth      100       3         1  \n",
      "4  ByOtherMeans      120       0         1  \n"
     ]
    }
   ],
   "source": [
    "cd = pd.read_csv('/Users/annanefedova/Desktop/Учеба /Developers Institute/DI-Bootcamp/week3/day1/XP3-1/clean_dataset.csv')\n",
    "print(cd.head())"
   ]
  },
  {
   "cell_type": "markdown",
   "id": "3da679a3",
   "metadata": {},
   "source": [
    "Gender - qualitative\n",
    "Age - quantitative\n",
    "Debt - quantitative\n",
    "Married - qualitative\n",
    "BankCustomer - qualitative\n",
    "Industry - qualitative\n",
    "Ethnicity  - qualitative\n",
    "YearsEmployed - quantitative\n",
    "PriorDefault - qualitative\n",
    "Employed - qualitative\n",
    "CreditScore - quantitative\n",
    "DriversLicense - qualitative\n",
    "Citizen - qualitative\n",
    "ZipCode - qualitative\n",
    "Income - quantitative\n",
    "Approved - qualitative"
   ]
  },
  {
   "cell_type": "code",
   "execution_count": 49,
   "id": "e35f5da8-51ae-484d-bd6b-c52c50daad3f",
   "metadata": {},
   "outputs": [
    {
     "name": "stdout",
     "output_type": "stream",
     "text": [
      "              Age        Debt  YearsEmployed  CreditScore         Income\n",
      "count  690.000000  690.000000     690.000000    690.00000     690.000000\n",
      "mean    31.514116    4.758725       2.223406      2.40000    1017.385507\n",
      "std     11.860245    4.978163       3.346513      4.86294    5210.102598\n",
      "min     13.750000    0.000000       0.000000      0.00000       0.000000\n",
      "25%     22.670000    1.000000       0.165000      0.00000       0.000000\n",
      "50%     28.460000    2.750000       1.000000      0.00000       5.000000\n",
      "75%     37.707500    7.207500       2.625000      3.00000     395.500000\n",
      "max     80.250000   28.000000      28.500000     67.00000  100000.000000\n"
     ]
    }
   ],
   "source": [
    "print(cd[['Age','Debt','YearsEmployed','CreditScore','Income']].describe())"
   ]
  },
  {
   "cell_type": "code",
   "execution_count": 19,
   "id": "31476f59-96d9-4047-9188-dc88feda440f",
   "metadata": {},
   "outputs": [
    {
     "name": "stdout",
     "output_type": "stream",
     "text": [
      "   b  30.83      0  u  g  w  v  1.25  t t.1  01  f g.1  00202  0.1  +\n",
      "0  a  58.67  4.460  u  g  q  h  3.04  t   t   6  f   g  00043  560  +\n",
      "1  a  24.50  0.500  u  g  q  h  1.50  t   f   0  f   g  00280  824  +\n",
      "2  b  27.83  1.540  u  g  w  v  3.75  t   t   5  t   g  00100    3  +\n",
      "3  b  20.17  5.625  u  g  w  v  1.71  t   f   0  f   s  00120    0  +\n",
      "4  b  32.08  4.000  u  g  m  v  2.50  t   f   0  t   g  00360    0  +\n"
     ]
    }
   ],
   "source": [
    "crx = pd.read_csv('/Users/annanefedova/Desktop/Учеба /Developers Institute/DI-Bootcamp/week3/day1/XP3-1/crx.csv')\n",
    "print(crx.head())"
   ]
  },
  {
   "cell_type": "markdown",
   "id": "755f90a9",
   "metadata": {},
   "source": [
    "The CRX dataset has no headers. Data types were identified by looking at the values. Some numeric-looking columns (like codes) are actually categorical, not quantitative.b - qualitative\n",
    "30.83 - quantitative\n",
    "0 - quantitative\n",
    "u - qualitative\n",
    "g - qualitative\n",
    "w - qualitative\n",
    "v - qualitative\n",
    "1.25 - quantitative\n",
    "t - qualitative\n",
    "t.1 - quantitative\n",
    "01 - quantitative\n",
    "f - qualitative\n",
    "g.1 - qualitative\n",
    "00202 - quantitative\n",
    "0.1 - quantitative\n",
    "+ - qualitative"
   ]
  },
  {
   "cell_type": "code",
   "execution_count": 21,
   "id": "018e5b2b-eae8-4bd9-a2fa-01674d4547ad",
   "metadata": {},
   "outputs": [
    {
     "name": "stdout",
     "output_type": "stream",
     "text": [
      "                0        1.25          01            0.1\n",
      "count  689.000000  689.000000  689.000000     689.000000\n",
      "mean     4.765631    2.224819    2.402032    1018.862119\n",
      "std      4.978470    3.348739    4.866180    5213.743149\n",
      "min      0.000000    0.000000    0.000000       0.000000\n",
      "25%      1.000000    0.165000    0.000000       0.000000\n",
      "50%      2.750000    1.000000    0.000000       5.000000\n",
      "75%      7.250000    2.625000    3.000000     396.000000\n",
      "max     28.000000   28.500000   67.000000  100000.000000\n"
     ]
    }
   ],
   "source": [
    "print(crx.describe())"
   ]
  },
  {
   "cell_type": "code",
   "execution_count": 2,
   "id": "a9075640-c365-48f0-b4ff-067bc8503dfa",
   "metadata": {},
   "outputs": [
    {
     "name": "stdout",
     "output_type": "stream",
     "text": [
      "   Id  SepalLengthCm  SepalWidthCm  PetalLengthCm  PetalWidthCm      Species\n",
      "0   1            5.1           3.5            1.4           0.2  Iris-setosa\n",
      "1   2            4.9           3.0            1.4           0.2  Iris-setosa\n",
      "2   3            4.7           3.2            1.3           0.2  Iris-setosa\n",
      "3   4            4.6           3.1            1.5           0.2  Iris-setosa\n",
      "4   5            5.0           3.6            1.4           0.2  Iris-setosa\n"
     ]
    }
   ],
   "source": [
    "url = \"https://raw.githubusercontent.com/AnnaNeff/DI-Bootcamp/main/week3/day1/XP3-1/Iris.csv\"\n",
    "iris = pd.read_csv(url)\n",
    "print(iris.head())"
   ]
  },
  {
   "cell_type": "code",
   "execution_count": 3,
   "id": "65ca96c5",
   "metadata": {},
   "outputs": [
    {
     "name": "stdout",
     "output_type": "stream",
     "text": [
      "<class 'pandas.core.frame.DataFrame'>\n",
      "RangeIndex: 150 entries, 0 to 149\n",
      "Data columns (total 6 columns):\n",
      " #   Column         Non-Null Count  Dtype  \n",
      "---  ------         --------------  -----  \n",
      " 0   Id             150 non-null    int64  \n",
      " 1   SepalLengthCm  150 non-null    float64\n",
      " 2   SepalWidthCm   150 non-null    float64\n",
      " 3   PetalLengthCm  150 non-null    float64\n",
      " 4   PetalWidthCm   150 non-null    float64\n",
      " 5   Species        150 non-null    object \n",
      "dtypes: float64(4), int64(1), object(1)\n",
      "memory usage: 7.2+ KB\n",
      "None\n"
     ]
    }
   ],
   "source": [
    "print(iris.info())"
   ]
  },
  {
   "cell_type": "markdown",
   "id": "e381ae51",
   "metadata": {},
   "source": [
    "The Iris dataset contains 150 rows and 6 columns:\n",
    "\n",
    "Id - Qualitative (identifier, not used for analysis).\n",
    "SepalLengthCm - Quantitative (numeric measurement of sepal length).\n",
    "SepalWidthCm - Quantitative (numeric measurement of sepal width).\n",
    "PetalLengthCm - Quantitative (numeric measurement of petal length).\n",
    "PetalWidthCm - Quantitative (numeric measurement of petal width).\n",
    "Species - Qualitative (categorical, species of the flower).\n",
    "\n",
    "Summary:\n",
    "Quantitative columns describe the flower measurements (used for analysis).\n",
    "Species is categorical because it represents classes.\n",
    "Id is only an identifier and has no analytical meaning."
   ]
  },
  {
   "cell_type": "code",
   "execution_count": 4,
   "id": "d1b3eb8a",
   "metadata": {},
   "outputs": [
    {
     "name": "stdout",
     "output_type": "stream",
     "text": [
      "SepalLengthCm mean: 5.84\n",
      "SepalLengthCm median: 5.8\n",
      "SepalLengthCm mode: 0    5.0\n",
      "Name: SepalLengthCm, dtype: float64\n"
     ]
    }
   ],
   "source": [
    "print(f'SepalLengthCm mean: {iris['SepalLengthCm'].mean().round(2)}')\n",
    "print(f'SepalLengthCm median: {iris['SepalLengthCm'].median()}')\n",
    "print(f'SepalLengthCm mode: {iris['SepalLengthCm'].mode()}')"
   ]
  },
  {
   "cell_type": "code",
   "execution_count": 5,
   "id": "0f6158e9",
   "metadata": {},
   "outputs": [
    {
     "data": {
      "image/png": "[encoded data removed]",
      "text/plain": [
       "<Figure size 640x480 with 1 Axes>"
      ]
     },
     "metadata": {},
     "output_type": "display_data"
    }
   ],
   "source": [
    "import matplotlib.pyplot as plt\n",
    "plt.bar(iris['Species'], iris['SepalWidthCm'].mode())\n",
    "plt.show()"
   ]
  }
 ],
 "metadata": {
  "kernelspec": {
   "display_name": "base",
   "language": "python",
   "name": "python3"
  },
  "language_info": {
   "codemirror_mode": {
    "name": "ipython",
    "version": 3
   },
   "file_extension": ".py",
   "mimetype": "text/x-python",
   "name": "python",
   "nbconvert_exporter": "python",
   "pygments_lexer": "ipython3",
   "version": "3.12.7"
  }
 },
 "nbformat": 4,
 "nbformat_minor": 5
}
