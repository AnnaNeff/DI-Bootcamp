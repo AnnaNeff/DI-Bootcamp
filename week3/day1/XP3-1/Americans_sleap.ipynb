{
 "cells": [
  {
   "cell_type": "code",
   "execution_count": 9,
   "id": "5a4d169f-c32c-491b-97ac-9ea8942d7d67",
   "metadata": {},
   "outputs": [
    {
     "name": "stdout",
     "output_type": "stream",
     "text": [
      "   index  Year  Period  Avg hrs per day sleeping  Standard Error Type of Days  \\\n",
      "0      0  2003  Annual                      8.57           0.018     All days   \n",
      "1      1  2004  Annual                      8.55           0.026     All days   \n",
      "2      2  2005  Annual                      8.62           0.023     All days   \n",
      "3      3  2006  Annual                      8.63           0.024     All days   \n",
      "4      4  2007  Annual                      8.57           0.024     All days   \n",
      "\n",
      "           Age Group  Activity   Sex  \n",
      "0  15 years and over  Sleeping  Both  \n",
      "1  15 years and over  Sleeping  Both  \n",
      "2  15 years and over  Sleeping  Both  \n",
      "3  15 years and over  Sleeping  Both  \n",
      "4  15 years and over  Sleeping  Both  \n"
     ]
    }
   ],
   "source": [
    "import pandas as pd\n",
    "\n",
    "tass = pd.read_csv('/Users/annanefedova/Desktop/Учеба /Developers Institute/DI-Bootcamp/week3/day1/XP3-1/Time Americans Spend Sleeping.csv')\n",
    "print(tass.head())"
   ]
  },
  {
   "cell_type": "code",
   "execution_count": 11,
   "id": "797ec491-316a-4630-85c2-931cfcb05809",
   "metadata": {},
   "outputs": [
    {
     "name": "stdout",
     "output_type": "stream",
     "text": [
      "<class 'pandas.core.frame.DataFrame'>\n",
      "RangeIndex: 945 entries, 0 to 944\n",
      "Data columns (total 9 columns):\n",
      " #   Column                    Non-Null Count  Dtype  \n",
      "---  ------                    --------------  -----  \n",
      " 0   index                     945 non-null    int64  \n",
      " 1   Year                      945 non-null    int64  \n",
      " 2   Period                    945 non-null    object \n",
      " 3   Avg hrs per day sleeping  945 non-null    float64\n",
      " 4   Standard Error            945 non-null    float64\n",
      " 5   Type of Days              945 non-null    object \n",
      " 6   Age Group                 945 non-null    object \n",
      " 7   Activity                  945 non-null    object \n",
      " 8   Sex                       945 non-null    object \n",
      "dtypes: float64(2), int64(2), object(5)\n",
      "memory usage: 66.6+ KB\n",
      "None\n"
     ]
    }
   ],
   "source": [
    "print(tass.info())"
   ]
  },
  {
   "cell_type": "code",
   "execution_count": 13,
   "id": "621d3aa4-232f-4b10-a566-1e95f760126e",
   "metadata": {},
   "outputs": [
    {
     "name": "stdout",
     "output_type": "stream",
     "text": [
      "            index         Year  Avg hrs per day sleeping  Standard Error\n",
      "count  945.000000   945.000000                945.000000      945.000000\n",
      "mean   472.000000  2010.000000                  8.806868        0.086958\n",
      "std    272.942302     4.322782                  0.545001        0.034631\n",
      "min      0.000000  2003.000000                  7.720000        0.018000\n",
      "25%    236.000000  2006.000000                  8.360000        0.063000\n",
      "50%    472.000000  2010.000000                  8.810000        0.084000\n",
      "75%    708.000000  2014.000000                  9.190000        0.106000\n",
      "max    944.000000  2017.000000                 10.650000        0.228000\n"
     ]
    }
   ],
   "source": [
    "print(tass.describe())"
   ]
  },
  {
   "cell_type": "code",
   "execution_count": 15,
   "id": "93ec5ab7-df10-4b6f-9354-42666579ba3c",
   "metadata": {},
   "outputs": [],
   "source": [
    "# In the dataset \"How Much Sleep Do Americans Really Get?\", the following columns are interesting for further analysis:\n",
    "\n",
    "# Age Group and Average Sleep Hours - can be used for a trend analysis to see how sleep duration changes across different age groups.  \n",
    "# Gender and Average Sleep Hours - useful for group comparison to check if there are differences in sleeping patterns between men and women.  \n",
    "# State and Average Sleep Hours - can be analyzed for regional trends in sleeping habits.  \n",
    "\n",
    "# These columns help us observe trends and group differences in how Americans sleep.\n"
   ]
  },
  {
   "cell_type": "code",
   "execution_count": null,
   "id": "b5971c3d-d252-4d8d-9ce5-4716247a11a0",
   "metadata": {},
   "outputs": [],
   "source": []
  }
 ],
 "metadata": {
  "kernelspec": {
   "display_name": "Python [conda env:base] *",
   "language": "python",
   "name": "conda-base-py"
  },
  "language_info": {
   "codemirror_mode": {
    "name": "ipython",
    "version": 3
   },
   "file_extension": ".py",
   "mimetype": "text/x-python",
   "name": "python",
   "nbconvert_exporter": "python",
   "pygments_lexer": "ipython3",
   "version": "3.12.7"
  }
 },
 "nbformat": 4,
 "nbformat_minor": 5
}
