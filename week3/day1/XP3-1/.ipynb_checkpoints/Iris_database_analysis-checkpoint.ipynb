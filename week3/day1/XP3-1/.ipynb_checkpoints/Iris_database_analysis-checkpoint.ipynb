{
 "cells": [
  {
   "cell_type": "code",
   "execution_count": 1,
   "id": "5eccb5f0-ec9a-40c2-8c70-99ba2ce00440",
   "metadata": {},
   "outputs": [
    {
     "name": "stdout",
     "output_type": "stream",
     "text": [
      "   Id  SepalLengthCm  SepalWidthCm  PetalLengthCm  PetalWidthCm      Species\n",
      "0   1            5.1           3.5            1.4           0.2  Iris-setosa\n",
      "1   2            4.9           3.0            1.4           0.2  Iris-setosa\n",
      "2   3            4.7           3.2            1.3           0.2  Iris-setosa\n",
      "3   4            4.6           3.1            1.5           0.2  Iris-setosa\n",
      "4   5            5.0           3.6            1.4           0.2  Iris-setosa\n"
     ]
    }
   ],
   "source": [
    "import pandas as pd\n",
    "\n",
    "iris = pd.read_csv('/Users/annanefedova/Desktop/Учеба /Developers Institute/DI-Bootcamp/week3/day1/XP3-1/Iris.csv')\n",
    "print(iris.head())"
   ]
  },
  {
   "cell_type": "code",
   "execution_count": 3,
   "id": "f3d22e76-3a56-4f60-bac3-0bddee4cd15f",
   "metadata": {},
   "outputs": [
    {
     "name": "stdout",
     "output_type": "stream",
     "text": [
      "<class 'pandas.core.frame.DataFrame'>\n",
      "RangeIndex: 150 entries, 0 to 149\n",
      "Data columns (total 6 columns):\n",
      " #   Column         Non-Null Count  Dtype  \n",
      "---  ------         --------------  -----  \n",
      " 0   Id             150 non-null    int64  \n",
      " 1   SepalLengthCm  150 non-null    float64\n",
      " 2   SepalWidthCm   150 non-null    float64\n",
      " 3   PetalLengthCm  150 non-null    float64\n",
      " 4   PetalWidthCm   150 non-null    float64\n",
      " 5   Species        150 non-null    object \n",
      "dtypes: float64(4), int64(1), object(1)\n",
      "memory usage: 7.2+ KB\n",
      "None\n"
     ]
    }
   ],
   "source": [
    "print(iris.info())"
   ]
  },
  {
   "cell_type": "code",
   "execution_count": null,
   "id": "d305ba7e-2ed9-4327-8ab8-bf5290d7c4bc",
   "metadata": {},
   "outputs": [],
   "source": [
    "#The Iris dataset contains 150 rows and 6 columns:\n",
    "\n",
    "#Id - Qualitative (identifier, not used for analysis).  \n",
    "#SepalLengthCm - Quantitative (numeric measurement of sepal length).  \n",
    "#SepalWidthCm - Quantitative (numeric measurement of sepal width).  \n",
    "#PetalLengthCm - Quantitative (numeric measurement of petal length).  \n",
    "#PetalWidthCm - Quantitative (numeric measurement of petal width).  \n",
    "#Species - Qualitative (categorical, species of the flower).  \n",
    "\n",
    "#Summary:  \n",
    "#Quantitative columns describe the flower measurements (used for analysis).  \n",
    "#Species is categorical because it represents classes.  \n",
    "#Id is only an identifier and has no analytical meaning.  "
   ]
  }
 ],
 "metadata": {
  "kernelspec": {
   "display_name": "Python [conda env:base] *",
   "language": "python",
   "name": "conda-base-py"
  },
  "language_info": {
   "codemirror_mode": {
    "name": "ipython",
    "version": 3
   },
   "file_extension": ".py",
   "mimetype": "text/x-python",
   "name": "python",
   "nbconvert_exporter": "python",
   "pygments_lexer": "ipython3",
   "version": "3.12.7"
  }
 },
 "nbformat": 4,
 "nbformat_minor": 5
}
