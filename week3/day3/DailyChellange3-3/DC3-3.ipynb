{
 "cells": [
  {
   "cell_type": "code",
   "execution_count": 34,
   "id": "81c27870",
   "metadata": {},
   "outputs": [
    {
     "name": "stdout",
     "output_type": "stream",
     "text": [
      "   Unnamed: 0       job_title   job_type experience_level       location  \\\n",
      "0           0  Data scientist  Full Time           Senior  New York City   \n",
      "1           2  Data scientist  Full Time           Senior         Boston   \n",
      "2           3  Data scientist  Full Time           Senior         London   \n",
      "3           4  Data scientist  Full Time           Senior         Boston   \n",
      "4           5  Data scientist  Full Time           Senior  New York City   \n",
      "\n",
      "  salary_currency  salary  \n",
      "0             USD  149000  \n",
      "1             USD  120000  \n",
      "2             USD   68000  \n",
      "3             USD  120000  \n",
      "4             USD  149000  \n",
      "<class 'pandas.core.frame.DataFrame'>\n",
      "RangeIndex: 1171 entries, 0 to 1170\n",
      "Data columns (total 7 columns):\n",
      " #   Column            Non-Null Count  Dtype \n",
      "---  ------            --------------  ----- \n",
      " 0   Unnamed: 0        1171 non-null   int64 \n",
      " 1   job_title         1171 non-null   object\n",
      " 2   job_type          1171 non-null   object\n",
      " 3   experience_level  1171 non-null   object\n",
      " 4   location          1171 non-null   object\n",
      " 5   salary_currency   1171 non-null   object\n",
      " 6   salary            1171 non-null   int64 \n",
      "dtypes: int64(2), object(5)\n",
      "memory usage: 64.2+ KB\n",
      "None\n"
     ]
    }
   ],
   "source": [
    "import pandas as pd\n",
    "salaries = pd.read_csv(\"datascience_salaries.csv\")\n",
    "print(salaries.head())\n",
    "print(salaries.info())"
   ]
  },
  {
   "cell_type": "code",
   "execution_count": 35,
   "id": "cca66ef0",
   "metadata": {},
   "outputs": [
    {
     "data": {
      "text/plain": [
       "Unnamed: 0          0\n",
       "job_title           0\n",
       "job_type            0\n",
       "experience_level    0\n",
       "location            0\n",
       "salary_currency     0\n",
       "salary              0\n",
       "dtype: int64"
      ]
     },
     "execution_count": 35,
     "metadata": {},
     "output_type": "execute_result"
    }
   ],
   "source": [
    "salaries.isnull().sum()"
   ]
  },
  {
   "cell_type": "code",
   "execution_count": 36,
   "id": "88321da9",
   "metadata": {},
   "outputs": [
    {
     "data": {
      "text/plain": [
       "array(['Data scientist', 'Data analyst', 'Big data', 'Machine learning',\n",
       "       'ML Ops'], dtype=object)"
      ]
     },
     "execution_count": 36,
     "metadata": {},
     "output_type": "execute_result"
    }
   ],
   "source": [
    "salaries['job_title'].unique()"
   ]
  },
  {
   "cell_type": "code",
   "execution_count": 37,
   "id": "c8330a66",
   "metadata": {},
   "outputs": [
    {
     "data": {
      "text/plain": [
       "array(['Full Time', 'Internship'], dtype=object)"
      ]
     },
     "execution_count": 37,
     "metadata": {},
     "output_type": "execute_result"
    }
   ],
   "source": [
    "salaries['job_type'].unique()"
   ]
  },
  {
   "cell_type": "code",
   "execution_count": 38,
   "id": "16e70608",
   "metadata": {},
   "outputs": [
    {
     "data": {
      "text/plain": [
       "array(['Senior', 'Entry', 'Mid', 'Executive'], dtype=object)"
      ]
     },
     "execution_count": 38,
     "metadata": {},
     "output_type": "execute_result"
    }
   ],
   "source": [
    "salaries['experience_level'].unique()"
   ]
  },
  {
   "cell_type": "code",
   "execution_count": 39,
   "id": "aa6024aa",
   "metadata": {},
   "outputs": [
    {
     "data": {
      "text/plain": [
       "array(['USD', 'EUR', 'GBP'], dtype=object)"
      ]
     },
     "execution_count": 39,
     "metadata": {},
     "output_type": "execute_result"
    }
   ],
   "source": [
    "salaries['salary_currency'].unique()"
   ]
  },
  {
   "cell_type": "code",
   "execution_count": 40,
   "id": "71c7f213",
   "metadata": {},
   "outputs": [
    {
     "data": {
      "text/plain": [
       "count      1171.000000\n",
       "mean      64836.037575\n",
       "std       32551.767046\n",
       "min       30000.000000\n",
       "25%       45000.000000\n",
       "50%       63000.000000\n",
       "75%       68000.000000\n",
       "max      228000.000000\n",
       "Name: salary, dtype: float64"
      ]
     },
     "execution_count": 40,
     "metadata": {},
     "output_type": "execute_result"
    }
   ],
   "source": [
    "salaries['salary'].describe()"
   ]
  },
  {
   "cell_type": "code",
   "execution_count": 41,
   "id": "100abf02",
   "metadata": {},
   "outputs": [
    {
     "name": "stdout",
     "output_type": "stream",
     "text": [
      "1.1744\n"
     ]
    }
   ],
   "source": [
    "import requests\n",
    "\n",
    "url_eur = \"https://api.frankfurter.app/latest?from=EUR&to=USD\"\n",
    "response_eur = requests.get(url_eur).json()\n",
    "eur_usd = response_eur['rates']['USD']\n",
    "\n",
    "print(eur_usd)"
   ]
  },
  {
   "cell_type": "code",
   "execution_count": 42,
   "id": "c6e742e2",
   "metadata": {},
   "outputs": [
    {
     "name": "stdout",
     "output_type": "stream",
     "text": [
      "1.3557\n"
     ]
    }
   ],
   "source": [
    "url_gbp = \"https://api.frankfurter.app/latest?from=GBP&to=USD\"\n",
    "response_gbp = requests.get(url_gbp).json()\n",
    "gbp_usd = response_gbp['rates']['USD']\n",
    "\n",
    "print(gbp_usd)"
   ]
  },
  {
   "cell_type": "code",
   "execution_count": 43,
   "id": "a040b09e",
   "metadata": {},
   "outputs": [
    {
     "name": "stdout",
     "output_type": "stream",
     "text": [
      "   Unnamed: 0       job_title   job_type experience_level       location  \\\n",
      "0           0  Data scientist  Full Time           Senior  New York City   \n",
      "1           2  Data scientist  Full Time           Senior         Boston   \n",
      "2           3  Data scientist  Full Time           Senior         London   \n",
      "3           4  Data scientist  Full Time           Senior         Boston   \n",
      "4           5  Data scientist  Full Time           Senior  New York City   \n",
      "\n",
      "  salary_currency  salary  usd_salary  \n",
      "0             USD  149000    149000.0  \n",
      "1             USD  120000    120000.0  \n",
      "2             USD   68000     68000.0  \n",
      "3             USD  120000    120000.0  \n",
      "4             USD  149000    149000.0  \n"
     ]
    }
   ],
   "source": [
    "rates_to_usd = {\n",
    "    'USD': 1,\n",
    "    'EUR': eur_usd,\n",
    "    'GBP': gbp_usd\n",
    "}\n",
    "\n",
    "salaries['usd_salary'] = salaries.apply(\n",
    "    lambda row: row['salary'] * rates_to_usd[row['salary_currency']],\n",
    "    axis=1\n",
    ")\n",
    "\n",
    "print(salaries.head())"
   ]
  },
  {
   "cell_type": "code",
   "execution_count": 44,
   "id": "ede3b05b",
   "metadata": {},
   "outputs": [
    {
     "data": {
      "text/html": [
       "<div>\n",
       "<style scoped>\n",
       "    .dataframe tbody tr th:only-of-type {\n",
       "        vertical-align: middle;\n",
       "    }\n",
       "\n",
       "    .dataframe tbody tr th {\n",
       "        vertical-align: top;\n",
       "    }\n",
       "\n",
       "    .dataframe thead th {\n",
       "        text-align: right;\n",
       "    }\n",
       "</style>\n",
       "<table border=\"1\" class=\"dataframe\">\n",
       "  <thead>\n",
       "    <tr style=\"text-align: right;\">\n",
       "      <th></th>\n",
       "      <th>usd_salary_scaled</th>\n",
       "    </tr>\n",
       "  </thead>\n",
       "  <tbody>\n",
       "    <tr>\n",
       "      <th>count</th>\n",
       "      <td>1171.000000</td>\n",
       "    </tr>\n",
       "    <tr>\n",
       "      <th>mean</th>\n",
       "      <td>0.176646</td>\n",
       "    </tr>\n",
       "    <tr>\n",
       "      <th>std</th>\n",
       "      <td>0.164266</td>\n",
       "    </tr>\n",
       "    <tr>\n",
       "      <th>min</th>\n",
       "      <td>0.000000</td>\n",
       "    </tr>\n",
       "    <tr>\n",
       "      <th>25%</th>\n",
       "      <td>0.075758</td>\n",
       "    </tr>\n",
       "    <tr>\n",
       "      <th>50%</th>\n",
       "      <td>0.166667</td>\n",
       "    </tr>\n",
       "    <tr>\n",
       "      <th>75%</th>\n",
       "      <td>0.191919</td>\n",
       "    </tr>\n",
       "    <tr>\n",
       "      <th>max</th>\n",
       "      <td>1.000000</td>\n",
       "    </tr>\n",
       "  </tbody>\n",
       "</table>\n",
       "</div>"
      ],
      "text/plain": [
       "       usd_salary_scaled\n",
       "count        1171.000000\n",
       "mean            0.176646\n",
       "std             0.164266\n",
       "min             0.000000\n",
       "25%             0.075758\n",
       "50%             0.166667\n",
       "75%             0.191919\n",
       "max             1.000000"
      ]
     },
     "execution_count": 44,
     "metadata": {},
     "output_type": "execute_result"
    }
   ],
   "source": [
    "from sklearn.preprocessing import MinMaxScaler\n",
    "mm_scaler = MinMaxScaler()\n",
    "salaries['usd_salary_scaled'] = mm_scaler.fit_transform(salaries[['usd_salary']])\n",
    "\n",
    "salaries[['usd_salary_scaled']].describe()\n",
    "\n"
   ]
  },
  {
   "cell_type": "code",
   "execution_count": 45,
   "id": "cd768a3e",
   "metadata": {},
   "outputs": [
    {
     "data": {
      "text/html": [
       "<div>\n",
       "<style scoped>\n",
       "    .dataframe tbody tr th:only-of-type {\n",
       "        vertical-align: middle;\n",
       "    }\n",
       "\n",
       "    .dataframe tbody tr th {\n",
       "        vertical-align: top;\n",
       "    }\n",
       "\n",
       "    .dataframe thead th {\n",
       "        text-align: right;\n",
       "    }\n",
       "</style>\n",
       "<table border=\"1\" class=\"dataframe\">\n",
       "  <thead>\n",
       "    <tr style=\"text-align: right;\">\n",
       "      <th></th>\n",
       "      <th>Unnamed: 0</th>\n",
       "      <th>salary</th>\n",
       "      <th>usd_salary</th>\n",
       "      <th>usd_salary_scaled</th>\n",
       "      <th>job_title_Data analyst</th>\n",
       "      <th>job_title_Data scientist</th>\n",
       "      <th>job_title_ML Ops</th>\n",
       "      <th>job_title_Machine learning</th>\n",
       "      <th>job_type_Internship</th>\n",
       "      <th>experience_level_Executive</th>\n",
       "      <th>...</th>\n",
       "      <th>location_Wien</th>\n",
       "      <th>location_Wilmington</th>\n",
       "      <th>location_Work from Home</th>\n",
       "      <th>location_Wrocław</th>\n",
       "      <th>location_Zurich</th>\n",
       "      <th>location_tel aviv</th>\n",
       "      <th>location_České Budějovice</th>\n",
       "      <th>location_İstanbul</th>\n",
       "      <th>salary_currency_GBP</th>\n",
       "      <th>salary_currency_USD</th>\n",
       "    </tr>\n",
       "  </thead>\n",
       "  <tbody>\n",
       "    <tr>\n",
       "      <th>0</th>\n",
       "      <td>0</td>\n",
       "      <td>149000</td>\n",
       "      <td>149000.0</td>\n",
       "      <td>0.601010</td>\n",
       "      <td>False</td>\n",
       "      <td>True</td>\n",
       "      <td>False</td>\n",
       "      <td>False</td>\n",
       "      <td>False</td>\n",
       "      <td>False</td>\n",
       "      <td>...</td>\n",
       "      <td>False</td>\n",
       "      <td>False</td>\n",
       "      <td>False</td>\n",
       "      <td>False</td>\n",
       "      <td>False</td>\n",
       "      <td>False</td>\n",
       "      <td>False</td>\n",
       "      <td>False</td>\n",
       "      <td>False</td>\n",
       "      <td>True</td>\n",
       "    </tr>\n",
       "    <tr>\n",
       "      <th>1</th>\n",
       "      <td>2</td>\n",
       "      <td>120000</td>\n",
       "      <td>120000.0</td>\n",
       "      <td>0.454545</td>\n",
       "      <td>False</td>\n",
       "      <td>True</td>\n",
       "      <td>False</td>\n",
       "      <td>False</td>\n",
       "      <td>False</td>\n",
       "      <td>False</td>\n",
       "      <td>...</td>\n",
       "      <td>False</td>\n",
       "      <td>False</td>\n",
       "      <td>False</td>\n",
       "      <td>False</td>\n",
       "      <td>False</td>\n",
       "      <td>False</td>\n",
       "      <td>False</td>\n",
       "      <td>False</td>\n",
       "      <td>False</td>\n",
       "      <td>True</td>\n",
       "    </tr>\n",
       "    <tr>\n",
       "      <th>2</th>\n",
       "      <td>3</td>\n",
       "      <td>68000</td>\n",
       "      <td>68000.0</td>\n",
       "      <td>0.191919</td>\n",
       "      <td>False</td>\n",
       "      <td>True</td>\n",
       "      <td>False</td>\n",
       "      <td>False</td>\n",
       "      <td>False</td>\n",
       "      <td>False</td>\n",
       "      <td>...</td>\n",
       "      <td>False</td>\n",
       "      <td>False</td>\n",
       "      <td>False</td>\n",
       "      <td>False</td>\n",
       "      <td>False</td>\n",
       "      <td>False</td>\n",
       "      <td>False</td>\n",
       "      <td>False</td>\n",
       "      <td>False</td>\n",
       "      <td>True</td>\n",
       "    </tr>\n",
       "    <tr>\n",
       "      <th>3</th>\n",
       "      <td>4</td>\n",
       "      <td>120000</td>\n",
       "      <td>120000.0</td>\n",
       "      <td>0.454545</td>\n",
       "      <td>False</td>\n",
       "      <td>True</td>\n",
       "      <td>False</td>\n",
       "      <td>False</td>\n",
       "      <td>False</td>\n",
       "      <td>False</td>\n",
       "      <td>...</td>\n",
       "      <td>False</td>\n",
       "      <td>False</td>\n",
       "      <td>False</td>\n",
       "      <td>False</td>\n",
       "      <td>False</td>\n",
       "      <td>False</td>\n",
       "      <td>False</td>\n",
       "      <td>False</td>\n",
       "      <td>False</td>\n",
       "      <td>True</td>\n",
       "    </tr>\n",
       "    <tr>\n",
       "      <th>4</th>\n",
       "      <td>5</td>\n",
       "      <td>149000</td>\n",
       "      <td>149000.0</td>\n",
       "      <td>0.601010</td>\n",
       "      <td>False</td>\n",
       "      <td>True</td>\n",
       "      <td>False</td>\n",
       "      <td>False</td>\n",
       "      <td>False</td>\n",
       "      <td>False</td>\n",
       "      <td>...</td>\n",
       "      <td>False</td>\n",
       "      <td>False</td>\n",
       "      <td>False</td>\n",
       "      <td>False</td>\n",
       "      <td>False</td>\n",
       "      <td>False</td>\n",
       "      <td>False</td>\n",
       "      <td>False</td>\n",
       "      <td>False</td>\n",
       "      <td>True</td>\n",
       "    </tr>\n",
       "  </tbody>\n",
       "</table>\n",
       "<p>5 rows × 333 columns</p>\n",
       "</div>"
      ],
      "text/plain": [
       "   Unnamed: 0  salary  usd_salary  usd_salary_scaled  job_title_Data analyst  \\\n",
       "0           0  149000    149000.0           0.601010                   False   \n",
       "1           2  120000    120000.0           0.454545                   False   \n",
       "2           3   68000     68000.0           0.191919                   False   \n",
       "3           4  120000    120000.0           0.454545                   False   \n",
       "4           5  149000    149000.0           0.601010                   False   \n",
       "\n",
       "   job_title_Data scientist  job_title_ML Ops  job_title_Machine learning  \\\n",
       "0                      True             False                       False   \n",
       "1                      True             False                       False   \n",
       "2                      True             False                       False   \n",
       "3                      True             False                       False   \n",
       "4                      True             False                       False   \n",
       "\n",
       "   job_type_Internship  experience_level_Executive  ...  location_Wien  \\\n",
       "0                False                       False  ...          False   \n",
       "1                False                       False  ...          False   \n",
       "2                False                       False  ...          False   \n",
       "3                False                       False  ...          False   \n",
       "4                False                       False  ...          False   \n",
       "\n",
       "   location_Wilmington  location_Work from Home  location_Wrocław  \\\n",
       "0                False                    False             False   \n",
       "1                False                    False             False   \n",
       "2                False                    False             False   \n",
       "3                False                    False             False   \n",
       "4                False                    False             False   \n",
       "\n",
       "   location_Zurich  location_tel aviv  location_České Budějovice  \\\n",
       "0            False              False                      False   \n",
       "1            False              False                      False   \n",
       "2            False              False                      False   \n",
       "3            False              False                      False   \n",
       "4            False              False                      False   \n",
       "\n",
       "   location_İstanbul  salary_currency_GBP  salary_currency_USD  \n",
       "0              False                False                 True  \n",
       "1              False                False                 True  \n",
       "2              False                False                 True  \n",
       "3              False                False                 True  \n",
       "4              False                False                 True  \n",
       "\n",
       "[5 rows x 333 columns]"
      ]
     },
     "execution_count": 45,
     "metadata": {},
     "output_type": "execute_result"
    }
   ],
   "source": [
    "salaries_encoded = pd.get_dummies(salaries, columns=['job_title', 'job_type', 'experience_level', 'location', 'salary_currency'], drop_first=True)\n",
    "salaries_encoded.head()"
   ]
  },
  {
   "cell_type": "code",
   "execution_count": 46,
   "id": "6707f0e0",
   "metadata": {},
   "outputs": [
    {
     "data": {
      "text/html": [
       "<div>\n",
       "<style scoped>\n",
       "    .dataframe tbody tr th:only-of-type {\n",
       "        vertical-align: middle;\n",
       "    }\n",
       "\n",
       "    .dataframe tbody tr th {\n",
       "        vertical-align: top;\n",
       "    }\n",
       "\n",
       "    .dataframe thead th {\n",
       "        text-align: right;\n",
       "    }\n",
       "</style>\n",
       "<table border=\"1\" class=\"dataframe\">\n",
       "  <thead>\n",
       "    <tr style=\"text-align: right;\">\n",
       "      <th></th>\n",
       "      <th>usd_salary</th>\n",
       "      <th>experience_level</th>\n",
       "      <th>PC1</th>\n",
       "      <th>PC2</th>\n",
       "    </tr>\n",
       "  </thead>\n",
       "  <tbody>\n",
       "    <tr>\n",
       "      <th>0</th>\n",
       "      <td>149000.0</td>\n",
       "      <td>Senior</td>\n",
       "      <td>84163.766084</td>\n",
       "      <td>-949.193386</td>\n",
       "    </tr>\n",
       "    <tr>\n",
       "      <th>1</th>\n",
       "      <td>120000.0</td>\n",
       "      <td>Senior</td>\n",
       "      <td>55163.767133</td>\n",
       "      <td>-941.138557</td>\n",
       "    </tr>\n",
       "    <tr>\n",
       "      <th>2</th>\n",
       "      <td>68000.0</td>\n",
       "      <td>Senior</td>\n",
       "      <td>3163.768475</td>\n",
       "      <td>-929.281609</td>\n",
       "    </tr>\n",
       "    <tr>\n",
       "      <th>3</th>\n",
       "      <td>120000.0</td>\n",
       "      <td>Senior</td>\n",
       "      <td>55163.767551</td>\n",
       "      <td>-939.138558</td>\n",
       "    </tr>\n",
       "    <tr>\n",
       "      <th>4</th>\n",
       "      <td>149000.0</td>\n",
       "      <td>Senior</td>\n",
       "      <td>84163.767127</td>\n",
       "      <td>-944.193388</td>\n",
       "    </tr>\n",
       "  </tbody>\n",
       "</table>\n",
       "</div>"
      ],
      "text/plain": [
       "   usd_salary experience_level           PC1         PC2\n",
       "0    149000.0           Senior  84163.766084 -949.193386\n",
       "1    120000.0           Senior  55163.767133 -941.138557\n",
       "2     68000.0           Senior   3163.768475 -929.281609\n",
       "3    120000.0           Senior  55163.767551 -939.138558\n",
       "4    149000.0           Senior  84163.767127 -944.193388"
      ]
     },
     "execution_count": 46,
     "metadata": {},
     "output_type": "execute_result"
    }
   ],
   "source": [
    "from sklearn.decomposition import PCA\n",
    "\n",
    "X = salaries_encoded.drop(columns=['usd_salary'])  \n",
    "\n",
    "pca = PCA(n_components=2, random_state=42)\n",
    "X_pca = pca.fit_transform(X)\n",
    "\n",
    "salaries_reduced = pd.DataFrame({\n",
    "    'usd_salary': salaries['usd_salary'],\n",
    "    'experience_level': salaries['experience_level'],\n",
    "    'PC1': X_pca[:,0],\n",
    "    'PC2': X_pca[:,1]\n",
    "})\n",
    "\n",
    "salaries_reduced.head()"
   ]
  },
  {
   "cell_type": "code",
   "execution_count": 56,
   "id": "b3fdbb34",
   "metadata": {},
   "outputs": [
    {
     "data": {
      "text/html": [
       "<div>\n",
       "<style scoped>\n",
       "    .dataframe tbody tr th:only-of-type {\n",
       "        vertical-align: middle;\n",
       "    }\n",
       "\n",
       "    .dataframe tbody tr th {\n",
       "        vertical-align: top;\n",
       "    }\n",
       "\n",
       "    .dataframe thead th {\n",
       "        text-align: right;\n",
       "    }\n",
       "</style>\n",
       "<table border=\"1\" class=\"dataframe\">\n",
       "  <thead>\n",
       "    <tr style=\"text-align: right;\">\n",
       "      <th></th>\n",
       "      <th>experience_level</th>\n",
       "      <th>mean</th>\n",
       "      <th>median</th>\n",
       "      <th>count</th>\n",
       "    </tr>\n",
       "  </thead>\n",
       "  <tbody>\n",
       "    <tr>\n",
       "      <th>0</th>\n",
       "      <td>Entry</td>\n",
       "      <td>36111.111111</td>\n",
       "      <td>30000.0</td>\n",
       "      <td>126</td>\n",
       "    </tr>\n",
       "    <tr>\n",
       "      <th>1</th>\n",
       "      <td>Executive</td>\n",
       "      <td>76076.923077</td>\n",
       "      <td>46000.0</td>\n",
       "      <td>13</td>\n",
       "    </tr>\n",
       "    <tr>\n",
       "      <th>2</th>\n",
       "      <td>Mid</td>\n",
       "      <td>52076.054754</td>\n",
       "      <td>51000.0</td>\n",
       "      <td>305</td>\n",
       "    </tr>\n",
       "    <tr>\n",
       "      <th>3</th>\n",
       "      <td>Senior</td>\n",
       "      <td>75191.966575</td>\n",
       "      <td>68000.0</td>\n",
       "      <td>727</td>\n",
       "    </tr>\n",
       "  </tbody>\n",
       "</table>\n",
       "</div>"
      ],
      "text/plain": [
       "  experience_level          mean   median  count\n",
       "0            Entry  36111.111111  30000.0    126\n",
       "1        Executive  76076.923077  46000.0     13\n",
       "2              Mid  52076.054754  51000.0    305\n",
       "3           Senior  75191.966575  68000.0    727"
      ]
     },
     "execution_count": 56,
     "metadata": {},
     "output_type": "execute_result"
    }
   ],
   "source": [
    "agg = salaries_reduced.groupby('experience_level')['usd_salary'].agg(['mean','median','count']).reset_index()\n",
    "agg"
   ]
  },
  {
   "cell_type": "code",
   "execution_count": 57,
   "id": "dbaae2d0",
   "metadata": {},
   "outputs": [
    {
     "data": {
      "image/png": "[encoded data removed]",
      "text/plain": [
       "<Figure size 640x480 with 1 Axes>"
      ]
     },
     "metadata": {},
     "output_type": "display_data"
    }
   ],
   "source": [
    "import matplotlib.pyplot as plt\n",
    "agg = salaries_reduced.groupby('experience_level')['usd_salary'].mean().reset_index()\n",
    "plt.bar(agg['experience_level'], agg['usd_salary'])\n",
    "plt.show()"
   ]
  }
 ],
 "metadata": {
  "kernelspec": {
   "display_name": "base",
   "language": "python",
   "name": "python3"
  },
  "language_info": {
   "codemirror_mode": {
    "name": "ipython",
    "version": 3
   },
   "file_extension": ".py",
   "mimetype": "text/x-python",
   "name": "python",
   "nbconvert_exporter": "python",
   "pygments_lexer": "ipython3",
   "version": "3.12.7"
  }
 },
 "nbformat": 4,
 "nbformat_minor": 5
}
